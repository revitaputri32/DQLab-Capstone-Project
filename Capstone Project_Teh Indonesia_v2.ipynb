{
 "cells": [
  {
   "cell_type": "code",
   "execution_count": 1,
   "id": "07ea74d4",
   "metadata": {},
   "outputs": [],
   "source": [
    "#DQLab Capstone Project TETRIS 2024\n",
    "#By Indira Ayu (TETRIS-106)\n",
    "\n",
    "import pandas as pd\n",
    "import seaborn as sns\n",
    "import matplotlib.pyplot as plt\n",
    "from matplotlib.ticker import MaxNLocator\n",
    "from matplotlib.ticker import FuncFormatter\n",
    "import plotly.express as px\n",
    "\n",
    "sns.set_theme(style='darkgrid')"
   ]
  },
  {
   "cell_type": "code",
   "execution_count": 2,
   "id": "e3a83b3c",
   "metadata": {},
   "outputs": [],
   "source": [
    "# Importing data from excel file\n",
    "tea_areaprod = pd.read_excel('Project_data.xlsx', sheet_name=0)\n",
    "tea_prod = pd.read_excel('Project_data.xlsx', sheet_name=1)\n",
    "tea_eximp = pd.read_excel('Project_data.xlsx', sheet_name=2)\n",
    "export_comp = pd.read_excel('Project_data.xlsx', sheet_name=4)\n",
    "global_prod = pd.read_csv('global_tea_prod.csv')"
   ]
  },
  {
   "cell_type": "code",
   "execution_count": 3,
   "id": "be5b9b31",
   "metadata": {},
   "outputs": [
    {
     "data": {
      "text/html": [
       "<div>\n",
       "<style scoped>\n",
       "    .dataframe tbody tr th:only-of-type {\n",
       "        vertical-align: middle;\n",
       "    }\n",
       "\n",
       "    .dataframe tbody tr th {\n",
       "        vertical-align: top;\n",
       "    }\n",
       "\n",
       "    .dataframe thead th {\n",
       "        text-align: right;\n",
       "    }\n",
       "</style>\n",
       "<table border=\"1\" class=\"dataframe\">\n",
       "  <thead>\n",
       "    <tr style=\"text-align: right;\">\n",
       "      <th></th>\n",
       "      <th>country</th>\n",
       "      <th>year</th>\n",
       "      <th>production</th>\n",
       "      <th>flag</th>\n",
       "      <th>Flag Description</th>\n",
       "    </tr>\n",
       "  </thead>\n",
       "  <tbody>\n",
       "    <tr>\n",
       "      <th>0</th>\n",
       "      <td>Argentina</td>\n",
       "      <td>2002</td>\n",
       "      <td>306000</td>\n",
       "      <td>E</td>\n",
       "      <td>Estimated value</td>\n",
       "    </tr>\n",
       "    <tr>\n",
       "      <th>1</th>\n",
       "      <td>Argentina</td>\n",
       "      <td>2003</td>\n",
       "      <td>304000</td>\n",
       "      <td>E</td>\n",
       "      <td>Estimated value</td>\n",
       "    </tr>\n",
       "    <tr>\n",
       "      <th>2</th>\n",
       "      <td>Argentina</td>\n",
       "      <td>2004</td>\n",
       "      <td>306000</td>\n",
       "      <td>E</td>\n",
       "      <td>Estimated value</td>\n",
       "    </tr>\n",
       "    <tr>\n",
       "      <th>3</th>\n",
       "      <td>Argentina</td>\n",
       "      <td>2005</td>\n",
       "      <td>295000</td>\n",
       "      <td>E</td>\n",
       "      <td>Estimated value</td>\n",
       "    </tr>\n",
       "    <tr>\n",
       "      <th>4</th>\n",
       "      <td>Argentina</td>\n",
       "      <td>2006</td>\n",
       "      <td>314000</td>\n",
       "      <td>E</td>\n",
       "      <td>Estimated value</td>\n",
       "    </tr>\n",
       "  </tbody>\n",
       "</table>\n",
       "</div>"
      ],
      "text/plain": [
       "     country  year  production flag Flag Description\n",
       "0  Argentina  2002      306000    E  Estimated value\n",
       "1  Argentina  2003      304000    E  Estimated value\n",
       "2  Argentina  2004      306000    E  Estimated value\n",
       "3  Argentina  2005      295000    E  Estimated value\n",
       "4  Argentina  2006      314000    E  Estimated value"
      ]
     },
     "execution_count": 3,
     "metadata": {},
     "output_type": "execute_result"
    }
   ],
   "source": [
    "# Exploring data 1: Percentage share of global tea production\n",
    "global_prod.head()"
   ]
  },
  {
   "cell_type": "code",
   "execution_count": 33,
   "id": "580ff070",
   "metadata": {},
   "outputs": [
    {
     "data": {
      "application/vnd.plotly.v1+json": {
       "config": {
        "plotlyServerURL": "https://plot.ly"
       },
       "data": [
        {
         "branchvalues": "total",
         "customdata": [
          [
           306000
          ],
          [
           1440
          ],
          [
           252000
          ],
          [
           850
          ],
          [
           37364
          ],
          [
           33234
          ],
          [
           4000
          ],
          [
           3261345
          ],
          [
           20345
          ],
          [
           120
          ],
          [
           1389
          ],
          [
           815
          ],
          [
           250
          ],
          [
           3900
          ],
          [
           24000
          ],
          [
           143
          ],
          [
           3713000
          ],
          [
           718000
          ],
          [
           212538
          ],
          [
           365000
          ],
          [
           1248000
          ],
          [
           172
          ],
          [
           516
          ],
          [
           170000
          ],
          [
           5100
          ],
          [
           70
          ],
          [
           7270
          ],
          [
           12579
          ],
          [
           69200
          ],
          [
           33000
          ],
          [
           6200
          ],
          [
           6349
          ],
          [
           105
          ],
          [
           1477
          ],
          [
           1290
          ],
          [
           65000
          ],
          [
           524
          ],
          [
           222
          ],
          [
           12500
          ],
          [
           1348000
          ],
          [
           36321
          ],
          [
           791700
          ],
          [
           172000
          ],
          [
           107000
          ],
          [
           405200
          ],
          [
           750
          ],
          [
           98000
          ]
         ],
         "domain": {
          "x": [
           0,
           1
          ],
          "y": [
           0,
           1
          ]
         },
         "hovertemplate": "labels=%{label}<br>production_sum=%{value}<br>parent=%{parent}<br>id=%{id}<br>production=%{color}<extra></extra>",
         "ids": [
          "Argentina",
          "Azerbaijan",
          "Bangladesh",
          "Bolivia (Plurinational State of)",
          "Brazil",
          "Burundi",
          "Cameroon",
          "China",
          "China, Taiwan Province of",
          "Colombia",
          "Democratic Republic of the Congo",
          "Ecuador",
          "El Salvador",
          "Ethiopia",
          "Georgia",
          "Guatemala",
          "India",
          "Indonesia",
          "Iran (Islamic Republic of)",
          "Japan",
          "Kenya",
          "Lao People's Democratic Republic",
          "Madagascar",
          "Malawi",
          "Malaysia",
          "Mali",
          "Mauritius",
          "Mozambique",
          "Myanmar",
          "Nepal",
          "Papua New Guinea",
          "Peru",
          "Portugal",
          "Republic of Korea",
          "Russian Federation",
          "Rwanda",
          "Réunion",
          "Seychelles",
          "South Africa",
          "Sri Lanka",
          "Thailand",
          "Türkiye",
          "Uganda",
          "United Republic of Tanzania",
          "Viet Nam",
          "Zambia",
          "Zimbabwe"
         ],
         "labels": [
          "Argentina",
          "Azerbaijan",
          "Bangladesh",
          "Bolivia (Plurinational State of)",
          "Brazil",
          "Burundi",
          "Cameroon",
          "China",
          "China, Taiwan Province of",
          "Colombia",
          "Democratic Republic of the Congo",
          "Ecuador",
          "El Salvador",
          "Ethiopia",
          "Georgia",
          "Guatemala",
          "India",
          "Indonesia",
          "Iran (Islamic Republic of)",
          "Japan",
          "Kenya",
          "Lao People's Democratic Republic",
          "Madagascar",
          "Malawi",
          "Malaysia",
          "Mali",
          "Mauritius",
          "Mozambique",
          "Myanmar",
          "Nepal",
          "Papua New Guinea",
          "Peru",
          "Portugal",
          "Republic of Korea",
          "Russian Federation",
          "Rwanda",
          "Réunion",
          "Seychelles",
          "South Africa",
          "Sri Lanka",
          "Thailand",
          "Türkiye",
          "Uganda",
          "United Republic of Tanzania",
          "Viet Nam",
          "Zambia",
          "Zimbabwe"
         ],
         "marker": {
          "coloraxis": "coloraxis",
          "colors": [
           306000,
           1440,
           252000,
           850,
           37364,
           33234,
           4000,
           3261345,
           20345,
           120,
           1389,
           815,
           250,
           3900,
           24000,
           143,
           3713000,
           718000,
           212538,
           365000,
           1248000,
           172,
           516,
           170000,
           5100,
           70,
           7270,
           12579,
           69200,
           33000,
           6200,
           6349,
           105,
           1477,
           1290,
           65000,
           524,
           222,
           12500,
           1348000,
           36321,
           791700,
           172000,
           107000,
           405200,
           750,
           98000
          ]
         },
         "name": "",
         "parents": [
          "",
          "",
          "",
          "",
          "",
          "",
          "",
          "",
          "",
          "",
          "",
          "",
          "",
          "",
          "",
          "",
          "",
          "",
          "",
          "",
          "",
          "",
          "",
          "",
          "",
          "",
          "",
          "",
          "",
          "",
          "",
          "",
          "",
          "",
          "",
          "",
          "",
          "",
          "",
          "",
          "",
          "",
          "",
          "",
          "",
          "",
          ""
         ],
         "textinfo": "label+value+percent root",
         "type": "treemap",
         "values": [
          306000,
          1440,
          252000,
          850,
          37364,
          33234,
          4000,
          3261345,
          20345,
          120,
          1389,
          815,
          250,
          3900,
          24000,
          143,
          3713000,
          718000,
          212538,
          365000,
          1248000,
          172,
          516,
          170000,
          5100,
          70,
          7270,
          12579,
          69200,
          33000,
          6200,
          6349,
          105,
          1477,
          1290,
          65000,
          524,
          222,
          12500,
          1348000,
          36321,
          791700,
          172000,
          107000,
          405200,
          750,
          98000
         ]
        }
       ],
       "layout": {
        "coloraxis": {
         "colorbar": {
          "title": {
           "text": "production"
          }
         },
         "colorscale": [
          [
           0,
           "rgb(103,0,31)"
          ],
          [
           0.1,
           "rgb(178,24,43)"
          ],
          [
           0.2,
           "rgb(214,96,77)"
          ],
          [
           0.3,
           "rgb(244,165,130)"
          ],
          [
           0.4,
           "rgb(253,219,199)"
          ],
          [
           0.5,
           "rgb(247,247,247)"
          ],
          [
           0.6,
           "rgb(209,229,240)"
          ],
          [
           0.7,
           "rgb(146,197,222)"
          ],
          [
           0.8,
           "rgb(67,147,195)"
          ],
          [
           0.9,
           "rgb(33,102,172)"
          ],
          [
           1,
           "rgb(5,48,97)"
          ]
         ]
        },
        "height": 600,
        "hovermode": false,
        "legend": {
         "tracegroupgap": 0
        },
        "margin": {
         "b": 25,
         "l": 25,
         "r": 25,
         "t": 50
        },
        "template": {
         "data": {
          "bar": [
           {
            "error_x": {
             "color": "#2a3f5f"
            },
            "error_y": {
             "color": "#2a3f5f"
            },
            "marker": {
             "line": {
              "color": "#E5ECF6",
              "width": 0.5
             },
             "pattern": {
              "fillmode": "overlay",
              "size": 10,
              "solidity": 0.2
             }
            },
            "type": "bar"
           }
          ],
          "barpolar": [
           {
            "marker": {
             "line": {
              "color": "#E5ECF6",
              "width": 0.5
             },
             "pattern": {
              "fillmode": "overlay",
              "size": 10,
              "solidity": 0.2
             }
            },
            "type": "barpolar"
           }
          ],
          "carpet": [
           {
            "aaxis": {
             "endlinecolor": "#2a3f5f",
             "gridcolor": "white",
             "linecolor": "white",
             "minorgridcolor": "white",
             "startlinecolor": "#2a3f5f"
            },
            "baxis": {
             "endlinecolor": "#2a3f5f",
             "gridcolor": "white",
             "linecolor": "white",
             "minorgridcolor": "white",
             "startlinecolor": "#2a3f5f"
            },
            "type": "carpet"
           }
          ],
          "choropleth": [
           {
            "colorbar": {
             "outlinewidth": 0,
             "ticks": ""
            },
            "type": "choropleth"
           }
          ],
          "contour": [
           {
            "colorbar": {
             "outlinewidth": 0,
             "ticks": ""
            },
            "colorscale": [
             [
              0,
              "#0d0887"
             ],
             [
              0.1111111111111111,
              "#46039f"
             ],
             [
              0.2222222222222222,
              "#7201a8"
             ],
             [
              0.3333333333333333,
              "#9c179e"
             ],
             [
              0.4444444444444444,
              "#bd3786"
             ],
             [
              0.5555555555555556,
              "#d8576b"
             ],
             [
              0.6666666666666666,
              "#ed7953"
             ],
             [
              0.7777777777777778,
              "#fb9f3a"
             ],
             [
              0.8888888888888888,
              "#fdca26"
             ],
             [
              1,
              "#f0f921"
             ]
            ],
            "type": "contour"
           }
          ],
          "contourcarpet": [
           {
            "colorbar": {
             "outlinewidth": 0,
             "ticks": ""
            },
            "type": "contourcarpet"
           }
          ],
          "heatmap": [
           {
            "colorbar": {
             "outlinewidth": 0,
             "ticks": ""
            },
            "colorscale": [
             [
              0,
              "#0d0887"
             ],
             [
              0.1111111111111111,
              "#46039f"
             ],
             [
              0.2222222222222222,
              "#7201a8"
             ],
             [
              0.3333333333333333,
              "#9c179e"
             ],
             [
              0.4444444444444444,
              "#bd3786"
             ],
             [
              0.5555555555555556,
              "#d8576b"
             ],
             [
              0.6666666666666666,
              "#ed7953"
             ],
             [
              0.7777777777777778,
              "#fb9f3a"
             ],
             [
              0.8888888888888888,
              "#fdca26"
             ],
             [
              1,
              "#f0f921"
             ]
            ],
            "type": "heatmap"
           }
          ],
          "heatmapgl": [
           {
            "colorbar": {
             "outlinewidth": 0,
             "ticks": ""
            },
            "colorscale": [
             [
              0,
              "#0d0887"
             ],
             [
              0.1111111111111111,
              "#46039f"
             ],
             [
              0.2222222222222222,
              "#7201a8"
             ],
             [
              0.3333333333333333,
              "#9c179e"
             ],
             [
              0.4444444444444444,
              "#bd3786"
             ],
             [
              0.5555555555555556,
              "#d8576b"
             ],
             [
              0.6666666666666666,
              "#ed7953"
             ],
             [
              0.7777777777777778,
              "#fb9f3a"
             ],
             [
              0.8888888888888888,
              "#fdca26"
             ],
             [
              1,
              "#f0f921"
             ]
            ],
            "type": "heatmapgl"
           }
          ],
          "histogram": [
           {
            "marker": {
             "pattern": {
              "fillmode": "overlay",
              "size": 10,
              "solidity": 0.2
             }
            },
            "type": "histogram"
           }
          ],
          "histogram2d": [
           {
            "colorbar": {
             "outlinewidth": 0,
             "ticks": ""
            },
            "colorscale": [
             [
              0,
              "#0d0887"
             ],
             [
              0.1111111111111111,
              "#46039f"
             ],
             [
              0.2222222222222222,
              "#7201a8"
             ],
             [
              0.3333333333333333,
              "#9c179e"
             ],
             [
              0.4444444444444444,
              "#bd3786"
             ],
             [
              0.5555555555555556,
              "#d8576b"
             ],
             [
              0.6666666666666666,
              "#ed7953"
             ],
             [
              0.7777777777777778,
              "#fb9f3a"
             ],
             [
              0.8888888888888888,
              "#fdca26"
             ],
             [
              1,
              "#f0f921"
             ]
            ],
            "type": "histogram2d"
           }
          ],
          "histogram2dcontour": [
           {
            "colorbar": {
             "outlinewidth": 0,
             "ticks": ""
            },
            "colorscale": [
             [
              0,
              "#0d0887"
             ],
             [
              0.1111111111111111,
              "#46039f"
             ],
             [
              0.2222222222222222,
              "#7201a8"
             ],
             [
              0.3333333333333333,
              "#9c179e"
             ],
             [
              0.4444444444444444,
              "#bd3786"
             ],
             [
              0.5555555555555556,
              "#d8576b"
             ],
             [
              0.6666666666666666,
              "#ed7953"
             ],
             [
              0.7777777777777778,
              "#fb9f3a"
             ],
             [
              0.8888888888888888,
              "#fdca26"
             ],
             [
              1,
              "#f0f921"
             ]
            ],
            "type": "histogram2dcontour"
           }
          ],
          "mesh3d": [
           {
            "colorbar": {
             "outlinewidth": 0,
             "ticks": ""
            },
            "type": "mesh3d"
           }
          ],
          "parcoords": [
           {
            "line": {
             "colorbar": {
              "outlinewidth": 0,
              "ticks": ""
             }
            },
            "type": "parcoords"
           }
          ],
          "pie": [
           {
            "automargin": true,
            "type": "pie"
           }
          ],
          "scatter": [
           {
            "fillpattern": {
             "fillmode": "overlay",
             "size": 10,
             "solidity": 0.2
            },
            "type": "scatter"
           }
          ],
          "scatter3d": [
           {
            "line": {
             "colorbar": {
              "outlinewidth": 0,
              "ticks": ""
             }
            },
            "marker": {
             "colorbar": {
              "outlinewidth": 0,
              "ticks": ""
             }
            },
            "type": "scatter3d"
           }
          ],
          "scattercarpet": [
           {
            "marker": {
             "colorbar": {
              "outlinewidth": 0,
              "ticks": ""
             }
            },
            "type": "scattercarpet"
           }
          ],
          "scattergeo": [
           {
            "marker": {
             "colorbar": {
              "outlinewidth": 0,
              "ticks": ""
             }
            },
            "type": "scattergeo"
           }
          ],
          "scattergl": [
           {
            "marker": {
             "colorbar": {
              "outlinewidth": 0,
              "ticks": ""
             }
            },
            "type": "scattergl"
           }
          ],
          "scattermapbox": [
           {
            "marker": {
             "colorbar": {
              "outlinewidth": 0,
              "ticks": ""
             }
            },
            "type": "scattermapbox"
           }
          ],
          "scatterpolar": [
           {
            "marker": {
             "colorbar": {
              "outlinewidth": 0,
              "ticks": ""
             }
            },
            "type": "scatterpolar"
           }
          ],
          "scatterpolargl": [
           {
            "marker": {
             "colorbar": {
              "outlinewidth": 0,
              "ticks": ""
             }
            },
            "type": "scatterpolargl"
           }
          ],
          "scatterternary": [
           {
            "marker": {
             "colorbar": {
              "outlinewidth": 0,
              "ticks": ""
             }
            },
            "type": "scatterternary"
           }
          ],
          "surface": [
           {
            "colorbar": {
             "outlinewidth": 0,
             "ticks": ""
            },
            "colorscale": [
             [
              0,
              "#0d0887"
             ],
             [
              0.1111111111111111,
              "#46039f"
             ],
             [
              0.2222222222222222,
              "#7201a8"
             ],
             [
              0.3333333333333333,
              "#9c179e"
             ],
             [
              0.4444444444444444,
              "#bd3786"
             ],
             [
              0.5555555555555556,
              "#d8576b"
             ],
             [
              0.6666666666666666,
              "#ed7953"
             ],
             [
              0.7777777777777778,
              "#fb9f3a"
             ],
             [
              0.8888888888888888,
              "#fdca26"
             ],
             [
              1,
              "#f0f921"
             ]
            ],
            "type": "surface"
           }
          ],
          "table": [
           {
            "cells": {
             "fill": {
              "color": "#EBF0F8"
             },
             "line": {
              "color": "white"
             }
            },
            "header": {
             "fill": {
              "color": "#C8D4E3"
             },
             "line": {
              "color": "white"
             }
            },
            "type": "table"
           }
          ]
         },
         "layout": {
          "annotationdefaults": {
           "arrowcolor": "#2a3f5f",
           "arrowhead": 0,
           "arrowwidth": 1
          },
          "autotypenumbers": "strict",
          "coloraxis": {
           "colorbar": {
            "outlinewidth": 0,
            "ticks": ""
           }
          },
          "colorscale": {
           "diverging": [
            [
             0,
             "#8e0152"
            ],
            [
             0.1,
             "#c51b7d"
            ],
            [
             0.2,
             "#de77ae"
            ],
            [
             0.3,
             "#f1b6da"
            ],
            [
             0.4,
             "#fde0ef"
            ],
            [
             0.5,
             "#f7f7f7"
            ],
            [
             0.6,
             "#e6f5d0"
            ],
            [
             0.7,
             "#b8e186"
            ],
            [
             0.8,
             "#7fbc41"
            ],
            [
             0.9,
             "#4d9221"
            ],
            [
             1,
             "#276419"
            ]
           ],
           "sequential": [
            [
             0,
             "#0d0887"
            ],
            [
             0.1111111111111111,
             "#46039f"
            ],
            [
             0.2222222222222222,
             "#7201a8"
            ],
            [
             0.3333333333333333,
             "#9c179e"
            ],
            [
             0.4444444444444444,
             "#bd3786"
            ],
            [
             0.5555555555555556,
             "#d8576b"
            ],
            [
             0.6666666666666666,
             "#ed7953"
            ],
            [
             0.7777777777777778,
             "#fb9f3a"
            ],
            [
             0.8888888888888888,
             "#fdca26"
            ],
            [
             1,
             "#f0f921"
            ]
           ],
           "sequentialminus": [
            [
             0,
             "#0d0887"
            ],
            [
             0.1111111111111111,
             "#46039f"
            ],
            [
             0.2222222222222222,
             "#7201a8"
            ],
            [
             0.3333333333333333,
             "#9c179e"
            ],
            [
             0.4444444444444444,
             "#bd3786"
            ],
            [
             0.5555555555555556,
             "#d8576b"
            ],
            [
             0.6666666666666666,
             "#ed7953"
            ],
            [
             0.7777777777777778,
             "#fb9f3a"
            ],
            [
             0.8888888888888888,
             "#fdca26"
            ],
            [
             1,
             "#f0f921"
            ]
           ]
          },
          "colorway": [
           "#636efa",
           "#EF553B",
           "#00cc96",
           "#ab63fa",
           "#FFA15A",
           "#19d3f3",
           "#FF6692",
           "#B6E880",
           "#FF97FF",
           "#FECB52"
          ],
          "font": {
           "color": "#2a3f5f"
          },
          "geo": {
           "bgcolor": "white",
           "lakecolor": "white",
           "landcolor": "#E5ECF6",
           "showlakes": true,
           "showland": true,
           "subunitcolor": "white"
          },
          "hoverlabel": {
           "align": "left"
          },
          "hovermode": "closest",
          "mapbox": {
           "style": "light"
          },
          "paper_bgcolor": "white",
          "plot_bgcolor": "#E5ECF6",
          "polar": {
           "angularaxis": {
            "gridcolor": "white",
            "linecolor": "white",
            "ticks": ""
           },
           "bgcolor": "#E5ECF6",
           "radialaxis": {
            "gridcolor": "white",
            "linecolor": "white",
            "ticks": ""
           }
          },
          "scene": {
           "xaxis": {
            "backgroundcolor": "#E5ECF6",
            "gridcolor": "white",
            "gridwidth": 2,
            "linecolor": "white",
            "showbackground": true,
            "ticks": "",
            "zerolinecolor": "white"
           },
           "yaxis": {
            "backgroundcolor": "#E5ECF6",
            "gridcolor": "white",
            "gridwidth": 2,
            "linecolor": "white",
            "showbackground": true,
            "ticks": "",
            "zerolinecolor": "white"
           },
           "zaxis": {
            "backgroundcolor": "#E5ECF6",
            "gridcolor": "white",
            "gridwidth": 2,
            "linecolor": "white",
            "showbackground": true,
            "ticks": "",
            "zerolinecolor": "white"
           }
          },
          "shapedefaults": {
           "line": {
            "color": "#2a3f5f"
           }
          },
          "ternary": {
           "aaxis": {
            "gridcolor": "white",
            "linecolor": "white",
            "ticks": ""
           },
           "baxis": {
            "gridcolor": "white",
            "linecolor": "white",
            "ticks": ""
           },
           "bgcolor": "#E5ECF6",
           "caxis": {
            "gridcolor": "white",
            "linecolor": "white",
            "ticks": ""
           }
          },
          "title": {
           "x": 0.05
          },
          "xaxis": {
           "automargin": true,
           "gridcolor": "white",
           "linecolor": "white",
           "ticks": "",
           "title": {
            "standoff": 15
           },
           "zerolinecolor": "white",
           "zerolinewidth": 2
          },
          "yaxis": {
           "automargin": true,
           "gridcolor": "white",
           "linecolor": "white",
           "ticks": "",
           "title": {
            "standoff": 15
           },
           "zerolinecolor": "white",
           "zerolinewidth": 2
          }
         }
        },
        "title": {
         "text": "Global Tea Production 2002"
        },
        "width": 800
       }
      },
      "text/html": [
       "<div>                            <div id=\"957a9b13-5948-4bf6-9cc1-d00853cab770\" class=\"plotly-graph-div\" style=\"height:600px; width:800px;\"></div>            <script type=\"text/javascript\">                require([\"plotly\"], function(Plotly) {                    window.PLOTLYENV=window.PLOTLYENV || {};                                    if (document.getElementById(\"957a9b13-5948-4bf6-9cc1-d00853cab770\")) {                    Plotly.newPlot(                        \"957a9b13-5948-4bf6-9cc1-d00853cab770\",                        [{\"branchvalues\":\"total\",\"customdata\":[[306000.0],[1440.0],[252000.0],[850.0],[37364.0],[33234.0],[4000.0],[3261345.0],[20345.0],[120.0],[1389.0],[815.0],[250.0],[3900.0],[24000.0],[143.0],[3713000.0],[718000.0],[212538.0],[365000.0],[1248000.0],[172.0],[516.0],[170000.0],[5100.0],[70.0],[7270.0],[12579.0],[69200.0],[33000.0],[6200.0],[6349.0],[105.0],[1477.0],[1290.0],[65000.0],[524.0],[222.0],[12500.0],[1348000.0],[36321.0],[791700.0],[172000.0],[107000.0],[405200.0],[750.0],[98000.0]],\"domain\":{\"x\":[0.0,1.0],\"y\":[0.0,1.0]},\"hovertemplate\":\"labels=%{label}<br>production_sum=%{value}<br>parent=%{parent}<br>id=%{id}<br>production=%{color}<extra></extra>\",\"ids\":[\"Argentina\",\"Azerbaijan\",\"Bangladesh\",\"Bolivia (Plurinational State of)\",\"Brazil\",\"Burundi\",\"Cameroon\",\"China\",\"China, Taiwan Province of\",\"Colombia\",\"Democratic Republic of the Congo\",\"Ecuador\",\"El Salvador\",\"Ethiopia\",\"Georgia\",\"Guatemala\",\"India\",\"Indonesia\",\"Iran (Islamic Republic of)\",\"Japan\",\"Kenya\",\"Lao People's Democratic Republic\",\"Madagascar\",\"Malawi\",\"Malaysia\",\"Mali\",\"Mauritius\",\"Mozambique\",\"Myanmar\",\"Nepal\",\"Papua New Guinea\",\"Peru\",\"Portugal\",\"Republic of Korea\",\"Russian Federation\",\"Rwanda\",\"R\\u00e9union\",\"Seychelles\",\"South Africa\",\"Sri Lanka\",\"Thailand\",\"T\\u00fcrkiye\",\"Uganda\",\"United Republic of Tanzania\",\"Viet Nam\",\"Zambia\",\"Zimbabwe\"],\"labels\":[\"Argentina\",\"Azerbaijan\",\"Bangladesh\",\"Bolivia (Plurinational State of)\",\"Brazil\",\"Burundi\",\"Cameroon\",\"China\",\"China, Taiwan Province of\",\"Colombia\",\"Democratic Republic of the Congo\",\"Ecuador\",\"El Salvador\",\"Ethiopia\",\"Georgia\",\"Guatemala\",\"India\",\"Indonesia\",\"Iran (Islamic Republic of)\",\"Japan\",\"Kenya\",\"Lao People's Democratic Republic\",\"Madagascar\",\"Malawi\",\"Malaysia\",\"Mali\",\"Mauritius\",\"Mozambique\",\"Myanmar\",\"Nepal\",\"Papua New Guinea\",\"Peru\",\"Portugal\",\"Republic of Korea\",\"Russian Federation\",\"Rwanda\",\"R\\u00e9union\",\"Seychelles\",\"South Africa\",\"Sri Lanka\",\"Thailand\",\"T\\u00fcrkiye\",\"Uganda\",\"United Republic of Tanzania\",\"Viet Nam\",\"Zambia\",\"Zimbabwe\"],\"marker\":{\"coloraxis\":\"coloraxis\",\"colors\":[306000.0,1440.0,252000.0,850.0,37364.0,33234.0,4000.0,3261345.0,20345.0,120.0,1389.0,815.0,250.0,3900.0,24000.0,143.0,3713000.0,718000.0,212538.0,365000.0,1248000.0,172.0,516.0,170000.0,5100.0,70.0,7270.0,12579.0,69200.0,33000.0,6200.0,6349.0,105.0,1477.0,1290.0,65000.0,524.0,222.0,12500.0,1348000.0,36321.0,791700.0,172000.0,107000.0,405200.0,750.0,98000.0]},\"name\":\"\",\"parents\":[\"\",\"\",\"\",\"\",\"\",\"\",\"\",\"\",\"\",\"\",\"\",\"\",\"\",\"\",\"\",\"\",\"\",\"\",\"\",\"\",\"\",\"\",\"\",\"\",\"\",\"\",\"\",\"\",\"\",\"\",\"\",\"\",\"\",\"\",\"\",\"\",\"\",\"\",\"\",\"\",\"\",\"\",\"\",\"\",\"\",\"\",\"\"],\"values\":[306000,1440,252000,850,37364,33234,4000,3261345,20345,120,1389,815,250,3900,24000,143,3713000,718000,212538,365000,1248000,172,516,170000,5100,70,7270,12579,69200,33000,6200,6349,105,1477,1290,65000,524,222,12500,1348000,36321,791700,172000,107000,405200,750,98000],\"type\":\"treemap\",\"textinfo\":\"label+value+percent root\"}],                        {\"template\":{\"data\":{\"histogram2dcontour\":[{\"type\":\"histogram2dcontour\",\"colorbar\":{\"outlinewidth\":0,\"ticks\":\"\"},\"colorscale\":[[0.0,\"#0d0887\"],[0.1111111111111111,\"#46039f\"],[0.2222222222222222,\"#7201a8\"],[0.3333333333333333,\"#9c179e\"],[0.4444444444444444,\"#bd3786\"],[0.5555555555555556,\"#d8576b\"],[0.6666666666666666,\"#ed7953\"],[0.7777777777777778,\"#fb9f3a\"],[0.8888888888888888,\"#fdca26\"],[1.0,\"#f0f921\"]]}],\"choropleth\":[{\"type\":\"choropleth\",\"colorbar\":{\"outlinewidth\":0,\"ticks\":\"\"}}],\"histogram2d\":[{\"type\":\"histogram2d\",\"colorbar\":{\"outlinewidth\":0,\"ticks\":\"\"},\"colorscale\":[[0.0,\"#0d0887\"],[0.1111111111111111,\"#46039f\"],[0.2222222222222222,\"#7201a8\"],[0.3333333333333333,\"#9c179e\"],[0.4444444444444444,\"#bd3786\"],[0.5555555555555556,\"#d8576b\"],[0.6666666666666666,\"#ed7953\"],[0.7777777777777778,\"#fb9f3a\"],[0.8888888888888888,\"#fdca26\"],[1.0,\"#f0f921\"]]}],\"heatmap\":[{\"type\":\"heatmap\",\"colorbar\":{\"outlinewidth\":0,\"ticks\":\"\"},\"colorscale\":[[0.0,\"#0d0887\"],[0.1111111111111111,\"#46039f\"],[0.2222222222222222,\"#7201a8\"],[0.3333333333333333,\"#9c179e\"],[0.4444444444444444,\"#bd3786\"],[0.5555555555555556,\"#d8576b\"],[0.6666666666666666,\"#ed7953\"],[0.7777777777777778,\"#fb9f3a\"],[0.8888888888888888,\"#fdca26\"],[1.0,\"#f0f921\"]]}],\"heatmapgl\":[{\"type\":\"heatmapgl\",\"colorbar\":{\"outlinewidth\":0,\"ticks\":\"\"},\"colorscale\":[[0.0,\"#0d0887\"],[0.1111111111111111,\"#46039f\"],[0.2222222222222222,\"#7201a8\"],[0.3333333333333333,\"#9c179e\"],[0.4444444444444444,\"#bd3786\"],[0.5555555555555556,\"#d8576b\"],[0.6666666666666666,\"#ed7953\"],[0.7777777777777778,\"#fb9f3a\"],[0.8888888888888888,\"#fdca26\"],[1.0,\"#f0f921\"]]}],\"contourcarpet\":[{\"type\":\"contourcarpet\",\"colorbar\":{\"outlinewidth\":0,\"ticks\":\"\"}}],\"contour\":[{\"type\":\"contour\",\"colorbar\":{\"outlinewidth\":0,\"ticks\":\"\"},\"colorscale\":[[0.0,\"#0d0887\"],[0.1111111111111111,\"#46039f\"],[0.2222222222222222,\"#7201a8\"],[0.3333333333333333,\"#9c179e\"],[0.4444444444444444,\"#bd3786\"],[0.5555555555555556,\"#d8576b\"],[0.6666666666666666,\"#ed7953\"],[0.7777777777777778,\"#fb9f3a\"],[0.8888888888888888,\"#fdca26\"],[1.0,\"#f0f921\"]]}],\"surface\":[{\"type\":\"surface\",\"colorbar\":{\"outlinewidth\":0,\"ticks\":\"\"},\"colorscale\":[[0.0,\"#0d0887\"],[0.1111111111111111,\"#46039f\"],[0.2222222222222222,\"#7201a8\"],[0.3333333333333333,\"#9c179e\"],[0.4444444444444444,\"#bd3786\"],[0.5555555555555556,\"#d8576b\"],[0.6666666666666666,\"#ed7953\"],[0.7777777777777778,\"#fb9f3a\"],[0.8888888888888888,\"#fdca26\"],[1.0,\"#f0f921\"]]}],\"mesh3d\":[{\"type\":\"mesh3d\",\"colorbar\":{\"outlinewidth\":0,\"ticks\":\"\"}}],\"scatter\":[{\"fillpattern\":{\"fillmode\":\"overlay\",\"size\":10,\"solidity\":0.2},\"type\":\"scatter\"}],\"parcoords\":[{\"type\":\"parcoords\",\"line\":{\"colorbar\":{\"outlinewidth\":0,\"ticks\":\"\"}}}],\"scatterpolargl\":[{\"type\":\"scatterpolargl\",\"marker\":{\"colorbar\":{\"outlinewidth\":0,\"ticks\":\"\"}}}],\"bar\":[{\"error_x\":{\"color\":\"#2a3f5f\"},\"error_y\":{\"color\":\"#2a3f5f\"},\"marker\":{\"line\":{\"color\":\"#E5ECF6\",\"width\":0.5},\"pattern\":{\"fillmode\":\"overlay\",\"size\":10,\"solidity\":0.2}},\"type\":\"bar\"}],\"scattergeo\":[{\"type\":\"scattergeo\",\"marker\":{\"colorbar\":{\"outlinewidth\":0,\"ticks\":\"\"}}}],\"scatterpolar\":[{\"type\":\"scatterpolar\",\"marker\":{\"colorbar\":{\"outlinewidth\":0,\"ticks\":\"\"}}}],\"histogram\":[{\"marker\":{\"pattern\":{\"fillmode\":\"overlay\",\"size\":10,\"solidity\":0.2}},\"type\":\"histogram\"}],\"scattergl\":[{\"type\":\"scattergl\",\"marker\":{\"colorbar\":{\"outlinewidth\":0,\"ticks\":\"\"}}}],\"scatter3d\":[{\"type\":\"scatter3d\",\"line\":{\"colorbar\":{\"outlinewidth\":0,\"ticks\":\"\"}},\"marker\":{\"colorbar\":{\"outlinewidth\":0,\"ticks\":\"\"}}}],\"scattermapbox\":[{\"type\":\"scattermapbox\",\"marker\":{\"colorbar\":{\"outlinewidth\":0,\"ticks\":\"\"}}}],\"scatterternary\":[{\"type\":\"scatterternary\",\"marker\":{\"colorbar\":{\"outlinewidth\":0,\"ticks\":\"\"}}}],\"scattercarpet\":[{\"type\":\"scattercarpet\",\"marker\":{\"colorbar\":{\"outlinewidth\":0,\"ticks\":\"\"}}}],\"carpet\":[{\"aaxis\":{\"endlinecolor\":\"#2a3f5f\",\"gridcolor\":\"white\",\"linecolor\":\"white\",\"minorgridcolor\":\"white\",\"startlinecolor\":\"#2a3f5f\"},\"baxis\":{\"endlinecolor\":\"#2a3f5f\",\"gridcolor\":\"white\",\"linecolor\":\"white\",\"minorgridcolor\":\"white\",\"startlinecolor\":\"#2a3f5f\"},\"type\":\"carpet\"}],\"table\":[{\"cells\":{\"fill\":{\"color\":\"#EBF0F8\"},\"line\":{\"color\":\"white\"}},\"header\":{\"fill\":{\"color\":\"#C8D4E3\"},\"line\":{\"color\":\"white\"}},\"type\":\"table\"}],\"barpolar\":[{\"marker\":{\"line\":{\"color\":\"#E5ECF6\",\"width\":0.5},\"pattern\":{\"fillmode\":\"overlay\",\"size\":10,\"solidity\":0.2}},\"type\":\"barpolar\"}],\"pie\":[{\"automargin\":true,\"type\":\"pie\"}]},\"layout\":{\"autotypenumbers\":\"strict\",\"colorway\":[\"#636efa\",\"#EF553B\",\"#00cc96\",\"#ab63fa\",\"#FFA15A\",\"#19d3f3\",\"#FF6692\",\"#B6E880\",\"#FF97FF\",\"#FECB52\"],\"font\":{\"color\":\"#2a3f5f\"},\"hovermode\":\"closest\",\"hoverlabel\":{\"align\":\"left\"},\"paper_bgcolor\":\"white\",\"plot_bgcolor\":\"#E5ECF6\",\"polar\":{\"bgcolor\":\"#E5ECF6\",\"angularaxis\":{\"gridcolor\":\"white\",\"linecolor\":\"white\",\"ticks\":\"\"},\"radialaxis\":{\"gridcolor\":\"white\",\"linecolor\":\"white\",\"ticks\":\"\"}},\"ternary\":{\"bgcolor\":\"#E5ECF6\",\"aaxis\":{\"gridcolor\":\"white\",\"linecolor\":\"white\",\"ticks\":\"\"},\"baxis\":{\"gridcolor\":\"white\",\"linecolor\":\"white\",\"ticks\":\"\"},\"caxis\":{\"gridcolor\":\"white\",\"linecolor\":\"white\",\"ticks\":\"\"}},\"coloraxis\":{\"colorbar\":{\"outlinewidth\":0,\"ticks\":\"\"}},\"colorscale\":{\"sequential\":[[0.0,\"#0d0887\"],[0.1111111111111111,\"#46039f\"],[0.2222222222222222,\"#7201a8\"],[0.3333333333333333,\"#9c179e\"],[0.4444444444444444,\"#bd3786\"],[0.5555555555555556,\"#d8576b\"],[0.6666666666666666,\"#ed7953\"],[0.7777777777777778,\"#fb9f3a\"],[0.8888888888888888,\"#fdca26\"],[1.0,\"#f0f921\"]],\"sequentialminus\":[[0.0,\"#0d0887\"],[0.1111111111111111,\"#46039f\"],[0.2222222222222222,\"#7201a8\"],[0.3333333333333333,\"#9c179e\"],[0.4444444444444444,\"#bd3786\"],[0.5555555555555556,\"#d8576b\"],[0.6666666666666666,\"#ed7953\"],[0.7777777777777778,\"#fb9f3a\"],[0.8888888888888888,\"#fdca26\"],[1.0,\"#f0f921\"]],\"diverging\":[[0,\"#8e0152\"],[0.1,\"#c51b7d\"],[0.2,\"#de77ae\"],[0.3,\"#f1b6da\"],[0.4,\"#fde0ef\"],[0.5,\"#f7f7f7\"],[0.6,\"#e6f5d0\"],[0.7,\"#b8e186\"],[0.8,\"#7fbc41\"],[0.9,\"#4d9221\"],[1,\"#276419\"]]},\"xaxis\":{\"gridcolor\":\"white\",\"linecolor\":\"white\",\"ticks\":\"\",\"title\":{\"standoff\":15},\"zerolinecolor\":\"white\",\"automargin\":true,\"zerolinewidth\":2},\"yaxis\":{\"gridcolor\":\"white\",\"linecolor\":\"white\",\"ticks\":\"\",\"title\":{\"standoff\":15},\"zerolinecolor\":\"white\",\"automargin\":true,\"zerolinewidth\":2},\"scene\":{\"xaxis\":{\"backgroundcolor\":\"#E5ECF6\",\"gridcolor\":\"white\",\"linecolor\":\"white\",\"showbackground\":true,\"ticks\":\"\",\"zerolinecolor\":\"white\",\"gridwidth\":2},\"yaxis\":{\"backgroundcolor\":\"#E5ECF6\",\"gridcolor\":\"white\",\"linecolor\":\"white\",\"showbackground\":true,\"ticks\":\"\",\"zerolinecolor\":\"white\",\"gridwidth\":2},\"zaxis\":{\"backgroundcolor\":\"#E5ECF6\",\"gridcolor\":\"white\",\"linecolor\":\"white\",\"showbackground\":true,\"ticks\":\"\",\"zerolinecolor\":\"white\",\"gridwidth\":2}},\"shapedefaults\":{\"line\":{\"color\":\"#2a3f5f\"}},\"annotationdefaults\":{\"arrowcolor\":\"#2a3f5f\",\"arrowhead\":0,\"arrowwidth\":1},\"geo\":{\"bgcolor\":\"white\",\"landcolor\":\"#E5ECF6\",\"subunitcolor\":\"white\",\"showland\":true,\"showlakes\":true,\"lakecolor\":\"white\"},\"title\":{\"x\":0.05},\"mapbox\":{\"style\":\"light\"}}},\"coloraxis\":{\"colorbar\":{\"title\":{\"text\":\"production\"}},\"colorscale\":[[0.0,\"rgb(103,0,31)\"],[0.1,\"rgb(178,24,43)\"],[0.2,\"rgb(214,96,77)\"],[0.3,\"rgb(244,165,130)\"],[0.4,\"rgb(253,219,199)\"],[0.5,\"rgb(247,247,247)\"],[0.6,\"rgb(209,229,240)\"],[0.7,\"rgb(146,197,222)\"],[0.8,\"rgb(67,147,195)\"],[0.9,\"rgb(33,102,172)\"],[1.0,\"rgb(5,48,97)\"]]},\"legend\":{\"tracegroupgap\":0},\"title\":{\"text\":\"Global Tea Production 2002\"},\"height\":600,\"width\":800,\"margin\":{\"t\":50,\"l\":25,\"r\":25,\"b\":25},\"hovermode\":false},                        {\"responsive\": true}                    ).then(function(){\n",
       "                            \n",
       "var gd = document.getElementById('957a9b13-5948-4bf6-9cc1-d00853cab770');\n",
       "var x = new MutationObserver(function (mutations, observer) {{\n",
       "        var display = window.getComputedStyle(gd).display;\n",
       "        if (!display || display === 'none') {{\n",
       "            console.log([gd, 'removed!']);\n",
       "            Plotly.purge(gd);\n",
       "            observer.disconnect();\n",
       "        }}\n",
       "}});\n",
       "\n",
       "// Listen for the removal of the full notebook cells\n",
       "var notebookContainer = gd.closest('#notebook-container');\n",
       "if (notebookContainer) {{\n",
       "    x.observe(notebookContainer, {childList: true});\n",
       "}}\n",
       "\n",
       "// Listen for the clearing of the current output cell\n",
       "var outputEl = gd.closest('.output');\n",
       "if (outputEl) {{\n",
       "    x.observe(outputEl, {childList: true});\n",
       "}}\n",
       "\n",
       "                        })                };                });            </script>        </div>"
      ]
     },
     "metadata": {},
     "output_type": "display_data"
    }
   ],
   "source": [
    "# Visualizing Tea Production Proportion in 2002 vs 2022\n",
    "# Global tea production in 2002\n",
    "prod_2002 = global_prod[global_prod['year'] == 2002]\n",
    "prod_2002 = prod_2002.reset_index(drop=True)\n",
    "\n",
    "fig = px.treemap(prod_2002, path=['country'], values='production', color='production', color_continuous_scale='RdBu',\n",
    "                 title='Global Tea Production 2002', width=800, height=600)\n",
    "fig.update_layout(margin = dict(t=50, l=25, r=25, b=25), hovermode=False)\n",
    "fig.data[0].textinfo ='label+value+percent root'\n",
    "fig.show()"
   ]
  },
  {
   "cell_type": "code",
   "execution_count": 38,
   "id": "400d3447",
   "metadata": {},
   "outputs": [
    {
     "data": {
      "application/vnd.plotly.v1+json": {
       "config": {
        "plotlyServerURL": "https://plot.ly"
       },
       "data": [
        {
         "branchvalues": "total",
         "customdata": [
          [
           355144
          ],
          [
           1000
          ],
          [
           440000
          ],
          [
           1198
          ],
          [
           2013
          ],
          [
           50400
          ],
          [
           5505
          ],
          [
           14542600
          ],
          [
           11800
          ],
          [
           225
          ],
          [
           2981
          ],
          [
           1567
          ],
          [
           684
          ],
          [
           10406
          ],
          [
           2500
          ],
          [
           551
          ],
          [
           5969000
          ],
          [
           595000
          ],
          [
           93479
          ],
          [
           304000
          ],
          [
           2326000
          ],
          [
           16800
          ],
          [
           397
          ],
          [
           207600
          ],
          [
           15883
          ],
          [
           92
          ],
          [
           6351
          ],
          [
           100
          ],
          [
           5119
          ],
          [
           98765
          ],
          [
           107400
          ],
          [
           5522
          ],
          [
           1799
          ],
          [
           2376
          ],
          [
           81
          ],
          [
           160419
          ],
          [
           7
          ],
          [
           1806
          ],
          [
           1400000
          ],
          [
           109194
          ],
          [
           1300000
          ],
          [
           326000
          ],
          [
           110000
          ],
          [
           1116746
          ],
          [
           948
          ],
          [
           63000
          ]
         ],
         "domain": {
          "x": [
           0,
           1
          ],
          "y": [
           0,
           1
          ]
         },
         "hovertemplate": "labels=%{label}<br>production_sum=%{value}<br>parent=%{parent}<br>id=%{id}<br>production=%{color}<extra></extra>",
         "ids": [
          "Argentina",
          "Azerbaijan",
          "Bangladesh",
          "Bolivia (Plurinational State of)",
          "Brazil",
          "Burundi",
          "Cameroon",
          "China",
          "China, Taiwan Province of",
          "Colombia",
          "Democratic Republic of the Congo",
          "Ecuador",
          "El Salvador",
          "Ethiopia",
          "Georgia",
          "Guatemala",
          "India",
          "Indonesia",
          "Iran (Islamic Republic of)",
          "Japan",
          "Kenya",
          "Lao People's Democratic Republic",
          "Madagascar",
          "Malawi",
          "Malaysia",
          "Mali",
          "Mauritius",
          "Montenegro",
          "Mozambique",
          "Myanmar",
          "Nepal",
          "Papua New Guinea",
          "Peru",
          "Republic of Korea",
          "Russian Federation",
          "Rwanda",
          "Seychelles",
          "South Africa",
          "Sri Lanka",
          "Thailand",
          "Türkiye",
          "Uganda",
          "United Republic of Tanzania",
          "Viet Nam",
          "Zambia",
          "Zimbabwe"
         ],
         "labels": [
          "Argentina",
          "Azerbaijan",
          "Bangladesh",
          "Bolivia (Plurinational State of)",
          "Brazil",
          "Burundi",
          "Cameroon",
          "China",
          "China, Taiwan Province of",
          "Colombia",
          "Democratic Republic of the Congo",
          "Ecuador",
          "El Salvador",
          "Ethiopia",
          "Georgia",
          "Guatemala",
          "India",
          "Indonesia",
          "Iran (Islamic Republic of)",
          "Japan",
          "Kenya",
          "Lao People's Democratic Republic",
          "Madagascar",
          "Malawi",
          "Malaysia",
          "Mali",
          "Mauritius",
          "Montenegro",
          "Mozambique",
          "Myanmar",
          "Nepal",
          "Papua New Guinea",
          "Peru",
          "Republic of Korea",
          "Russian Federation",
          "Rwanda",
          "Seychelles",
          "South Africa",
          "Sri Lanka",
          "Thailand",
          "Türkiye",
          "Uganda",
          "United Republic of Tanzania",
          "Viet Nam",
          "Zambia",
          "Zimbabwe"
         ],
         "marker": {
          "coloraxis": "coloraxis",
          "colors": [
           355144,
           1000,
           440000,
           1198,
           2013,
           50400,
           5505,
           14542600,
           11800,
           225,
           2981,
           1567,
           684,
           10406,
           2500,
           551,
           5969000,
           595000,
           93479,
           304000,
           2326000,
           16800,
           397,
           207600,
           15883,
           92,
           6351,
           100,
           5119,
           98765,
           107400,
           5522,
           1799,
           2376,
           81,
           160419,
           7,
           1806,
           1400000,
           109194,
           1300000,
           326000,
           110000,
           1116746,
           948,
           63000
          ]
         },
         "name": "",
         "parents": [
          "",
          "",
          "",
          "",
          "",
          "",
          "",
          "",
          "",
          "",
          "",
          "",
          "",
          "",
          "",
          "",
          "",
          "",
          "",
          "",
          "",
          "",
          "",
          "",
          "",
          "",
          "",
          "",
          "",
          "",
          "",
          "",
          "",
          "",
          "",
          "",
          "",
          "",
          "",
          "",
          "",
          "",
          "",
          "",
          "",
          ""
         ],
         "textinfo": "label+value+percent root",
         "type": "treemap",
         "values": [
          355144,
          1000,
          440000,
          1198,
          2013,
          50400,
          5505,
          14542600,
          11800,
          225,
          2981,
          1567,
          684,
          10406,
          2500,
          551,
          5969000,
          595000,
          93479,
          304000,
          2326000,
          16800,
          397,
          207600,
          15883,
          92,
          6351,
          100,
          5119,
          98765,
          107400,
          5522,
          1799,
          2376,
          81,
          160419,
          7,
          1806,
          1400000,
          109194,
          1300000,
          326000,
          110000,
          1116746,
          948,
          63000
         ]
        }
       ],
       "layout": {
        "coloraxis": {
         "colorbar": {
          "title": {
           "text": "production"
          }
         },
         "colorscale": [
          [
           0,
           "rgb(103,0,31)"
          ],
          [
           0.1,
           "rgb(178,24,43)"
          ],
          [
           0.2,
           "rgb(214,96,77)"
          ],
          [
           0.3,
           "rgb(244,165,130)"
          ],
          [
           0.4,
           "rgb(253,219,199)"
          ],
          [
           0.5,
           "rgb(247,247,247)"
          ],
          [
           0.6,
           "rgb(209,229,240)"
          ],
          [
           0.7,
           "rgb(146,197,222)"
          ],
          [
           0.8,
           "rgb(67,147,195)"
          ],
          [
           0.9,
           "rgb(33,102,172)"
          ],
          [
           1,
           "rgb(5,48,97)"
          ]
         ]
        },
        "height": 600,
        "hovermode": false,
        "legend": {
         "tracegroupgap": 0
        },
        "margin": {
         "b": 25,
         "l": 25,
         "r": 25,
         "t": 50
        },
        "template": {
         "data": {
          "bar": [
           {
            "error_x": {
             "color": "#2a3f5f"
            },
            "error_y": {
             "color": "#2a3f5f"
            },
            "marker": {
             "line": {
              "color": "#E5ECF6",
              "width": 0.5
             },
             "pattern": {
              "fillmode": "overlay",
              "size": 10,
              "solidity": 0.2
             }
            },
            "type": "bar"
           }
          ],
          "barpolar": [
           {
            "marker": {
             "line": {
              "color": "#E5ECF6",
              "width": 0.5
             },
             "pattern": {
              "fillmode": "overlay",
              "size": 10,
              "solidity": 0.2
             }
            },
            "type": "barpolar"
           }
          ],
          "carpet": [
           {
            "aaxis": {
             "endlinecolor": "#2a3f5f",
             "gridcolor": "white",
             "linecolor": "white",
             "minorgridcolor": "white",
             "startlinecolor": "#2a3f5f"
            },
            "baxis": {
             "endlinecolor": "#2a3f5f",
             "gridcolor": "white",
             "linecolor": "white",
             "minorgridcolor": "white",
             "startlinecolor": "#2a3f5f"
            },
            "type": "carpet"
           }
          ],
          "choropleth": [
           {
            "colorbar": {
             "outlinewidth": 0,
             "ticks": ""
            },
            "type": "choropleth"
           }
          ],
          "contour": [
           {
            "colorbar": {
             "outlinewidth": 0,
             "ticks": ""
            },
            "colorscale": [
             [
              0,
              "#0d0887"
             ],
             [
              0.1111111111111111,
              "#46039f"
             ],
             [
              0.2222222222222222,
              "#7201a8"
             ],
             [
              0.3333333333333333,
              "#9c179e"
             ],
             [
              0.4444444444444444,
              "#bd3786"
             ],
             [
              0.5555555555555556,
              "#d8576b"
             ],
             [
              0.6666666666666666,
              "#ed7953"
             ],
             [
              0.7777777777777778,
              "#fb9f3a"
             ],
             [
              0.8888888888888888,
              "#fdca26"
             ],
             [
              1,
              "#f0f921"
             ]
            ],
            "type": "contour"
           }
          ],
          "contourcarpet": [
           {
            "colorbar": {
             "outlinewidth": 0,
             "ticks": ""
            },
            "type": "contourcarpet"
           }
          ],
          "heatmap": [
           {
            "colorbar": {
             "outlinewidth": 0,
             "ticks": ""
            },
            "colorscale": [
             [
              0,
              "#0d0887"
             ],
             [
              0.1111111111111111,
              "#46039f"
             ],
             [
              0.2222222222222222,
              "#7201a8"
             ],
             [
              0.3333333333333333,
              "#9c179e"
             ],
             [
              0.4444444444444444,
              "#bd3786"
             ],
             [
              0.5555555555555556,
              "#d8576b"
             ],
             [
              0.6666666666666666,
              "#ed7953"
             ],
             [
              0.7777777777777778,
              "#fb9f3a"
             ],
             [
              0.8888888888888888,
              "#fdca26"
             ],
             [
              1,
              "#f0f921"
             ]
            ],
            "type": "heatmap"
           }
          ],
          "heatmapgl": [
           {
            "colorbar": {
             "outlinewidth": 0,
             "ticks": ""
            },
            "colorscale": [
             [
              0,
              "#0d0887"
             ],
             [
              0.1111111111111111,
              "#46039f"
             ],
             [
              0.2222222222222222,
              "#7201a8"
             ],
             [
              0.3333333333333333,
              "#9c179e"
             ],
             [
              0.4444444444444444,
              "#bd3786"
             ],
             [
              0.5555555555555556,
              "#d8576b"
             ],
             [
              0.6666666666666666,
              "#ed7953"
             ],
             [
              0.7777777777777778,
              "#fb9f3a"
             ],
             [
              0.8888888888888888,
              "#fdca26"
             ],
             [
              1,
              "#f0f921"
             ]
            ],
            "type": "heatmapgl"
           }
          ],
          "histogram": [
           {
            "marker": {
             "pattern": {
              "fillmode": "overlay",
              "size": 10,
              "solidity": 0.2
             }
            },
            "type": "histogram"
           }
          ],
          "histogram2d": [
           {
            "colorbar": {
             "outlinewidth": 0,
             "ticks": ""
            },
            "colorscale": [
             [
              0,
              "#0d0887"
             ],
             [
              0.1111111111111111,
              "#46039f"
             ],
             [
              0.2222222222222222,
              "#7201a8"
             ],
             [
              0.3333333333333333,
              "#9c179e"
             ],
             [
              0.4444444444444444,
              "#bd3786"
             ],
             [
              0.5555555555555556,
              "#d8576b"
             ],
             [
              0.6666666666666666,
              "#ed7953"
             ],
             [
              0.7777777777777778,
              "#fb9f3a"
             ],
             [
              0.8888888888888888,
              "#fdca26"
             ],
             [
              1,
              "#f0f921"
             ]
            ],
            "type": "histogram2d"
           }
          ],
          "histogram2dcontour": [
           {
            "colorbar": {
             "outlinewidth": 0,
             "ticks": ""
            },
            "colorscale": [
             [
              0,
              "#0d0887"
             ],
             [
              0.1111111111111111,
              "#46039f"
             ],
             [
              0.2222222222222222,
              "#7201a8"
             ],
             [
              0.3333333333333333,
              "#9c179e"
             ],
             [
              0.4444444444444444,
              "#bd3786"
             ],
             [
              0.5555555555555556,
              "#d8576b"
             ],
             [
              0.6666666666666666,
              "#ed7953"
             ],
             [
              0.7777777777777778,
              "#fb9f3a"
             ],
             [
              0.8888888888888888,
              "#fdca26"
             ],
             [
              1,
              "#f0f921"
             ]
            ],
            "type": "histogram2dcontour"
           }
          ],
          "mesh3d": [
           {
            "colorbar": {
             "outlinewidth": 0,
             "ticks": ""
            },
            "type": "mesh3d"
           }
          ],
          "parcoords": [
           {
            "line": {
             "colorbar": {
              "outlinewidth": 0,
              "ticks": ""
             }
            },
            "type": "parcoords"
           }
          ],
          "pie": [
           {
            "automargin": true,
            "type": "pie"
           }
          ],
          "scatter": [
           {
            "fillpattern": {
             "fillmode": "overlay",
             "size": 10,
             "solidity": 0.2
            },
            "type": "scatter"
           }
          ],
          "scatter3d": [
           {
            "line": {
             "colorbar": {
              "outlinewidth": 0,
              "ticks": ""
             }
            },
            "marker": {
             "colorbar": {
              "outlinewidth": 0,
              "ticks": ""
             }
            },
            "type": "scatter3d"
           }
          ],
          "scattercarpet": [
           {
            "marker": {
             "colorbar": {
              "outlinewidth": 0,
              "ticks": ""
             }
            },
            "type": "scattercarpet"
           }
          ],
          "scattergeo": [
           {
            "marker": {
             "colorbar": {
              "outlinewidth": 0,
              "ticks": ""
             }
            },
            "type": "scattergeo"
           }
          ],
          "scattergl": [
           {
            "marker": {
             "colorbar": {
              "outlinewidth": 0,
              "ticks": ""
             }
            },
            "type": "scattergl"
           }
          ],
          "scattermapbox": [
           {
            "marker": {
             "colorbar": {
              "outlinewidth": 0,
              "ticks": ""
             }
            },
            "type": "scattermapbox"
           }
          ],
          "scatterpolar": [
           {
            "marker": {
             "colorbar": {
              "outlinewidth": 0,
              "ticks": ""
             }
            },
            "type": "scatterpolar"
           }
          ],
          "scatterpolargl": [
           {
            "marker": {
             "colorbar": {
              "outlinewidth": 0,
              "ticks": ""
             }
            },
            "type": "scatterpolargl"
           }
          ],
          "scatterternary": [
           {
            "marker": {
             "colorbar": {
              "outlinewidth": 0,
              "ticks": ""
             }
            },
            "type": "scatterternary"
           }
          ],
          "surface": [
           {
            "colorbar": {
             "outlinewidth": 0,
             "ticks": ""
            },
            "colorscale": [
             [
              0,
              "#0d0887"
             ],
             [
              0.1111111111111111,
              "#46039f"
             ],
             [
              0.2222222222222222,
              "#7201a8"
             ],
             [
              0.3333333333333333,
              "#9c179e"
             ],
             [
              0.4444444444444444,
              "#bd3786"
             ],
             [
              0.5555555555555556,
              "#d8576b"
             ],
             [
              0.6666666666666666,
              "#ed7953"
             ],
             [
              0.7777777777777778,
              "#fb9f3a"
             ],
             [
              0.8888888888888888,
              "#fdca26"
             ],
             [
              1,
              "#f0f921"
             ]
            ],
            "type": "surface"
           }
          ],
          "table": [
           {
            "cells": {
             "fill": {
              "color": "#EBF0F8"
             },
             "line": {
              "color": "white"
             }
            },
            "header": {
             "fill": {
              "color": "#C8D4E3"
             },
             "line": {
              "color": "white"
             }
            },
            "type": "table"
           }
          ]
         },
         "layout": {
          "annotationdefaults": {
           "arrowcolor": "#2a3f5f",
           "arrowhead": 0,
           "arrowwidth": 1
          },
          "autotypenumbers": "strict",
          "coloraxis": {
           "colorbar": {
            "outlinewidth": 0,
            "ticks": ""
           }
          },
          "colorscale": {
           "diverging": [
            [
             0,
             "#8e0152"
            ],
            [
             0.1,
             "#c51b7d"
            ],
            [
             0.2,
             "#de77ae"
            ],
            [
             0.3,
             "#f1b6da"
            ],
            [
             0.4,
             "#fde0ef"
            ],
            [
             0.5,
             "#f7f7f7"
            ],
            [
             0.6,
             "#e6f5d0"
            ],
            [
             0.7,
             "#b8e186"
            ],
            [
             0.8,
             "#7fbc41"
            ],
            [
             0.9,
             "#4d9221"
            ],
            [
             1,
             "#276419"
            ]
           ],
           "sequential": [
            [
             0,
             "#0d0887"
            ],
            [
             0.1111111111111111,
             "#46039f"
            ],
            [
             0.2222222222222222,
             "#7201a8"
            ],
            [
             0.3333333333333333,
             "#9c179e"
            ],
            [
             0.4444444444444444,
             "#bd3786"
            ],
            [
             0.5555555555555556,
             "#d8576b"
            ],
            [
             0.6666666666666666,
             "#ed7953"
            ],
            [
             0.7777777777777778,
             "#fb9f3a"
            ],
            [
             0.8888888888888888,
             "#fdca26"
            ],
            [
             1,
             "#f0f921"
            ]
           ],
           "sequentialminus": [
            [
             0,
             "#0d0887"
            ],
            [
             0.1111111111111111,
             "#46039f"
            ],
            [
             0.2222222222222222,
             "#7201a8"
            ],
            [
             0.3333333333333333,
             "#9c179e"
            ],
            [
             0.4444444444444444,
             "#bd3786"
            ],
            [
             0.5555555555555556,
             "#d8576b"
            ],
            [
             0.6666666666666666,
             "#ed7953"
            ],
            [
             0.7777777777777778,
             "#fb9f3a"
            ],
            [
             0.8888888888888888,
             "#fdca26"
            ],
            [
             1,
             "#f0f921"
            ]
           ]
          },
          "colorway": [
           "#636efa",
           "#EF553B",
           "#00cc96",
           "#ab63fa",
           "#FFA15A",
           "#19d3f3",
           "#FF6692",
           "#B6E880",
           "#FF97FF",
           "#FECB52"
          ],
          "font": {
           "color": "#2a3f5f"
          },
          "geo": {
           "bgcolor": "white",
           "lakecolor": "white",
           "landcolor": "#E5ECF6",
           "showlakes": true,
           "showland": true,
           "subunitcolor": "white"
          },
          "hoverlabel": {
           "align": "left"
          },
          "hovermode": "closest",
          "mapbox": {
           "style": "light"
          },
          "paper_bgcolor": "white",
          "plot_bgcolor": "#E5ECF6",
          "polar": {
           "angularaxis": {
            "gridcolor": "white",
            "linecolor": "white",
            "ticks": ""
           },
           "bgcolor": "#E5ECF6",
           "radialaxis": {
            "gridcolor": "white",
            "linecolor": "white",
            "ticks": ""
           }
          },
          "scene": {
           "xaxis": {
            "backgroundcolor": "#E5ECF6",
            "gridcolor": "white",
            "gridwidth": 2,
            "linecolor": "white",
            "showbackground": true,
            "ticks": "",
            "zerolinecolor": "white"
           },
           "yaxis": {
            "backgroundcolor": "#E5ECF6",
            "gridcolor": "white",
            "gridwidth": 2,
            "linecolor": "white",
            "showbackground": true,
            "ticks": "",
            "zerolinecolor": "white"
           },
           "zaxis": {
            "backgroundcolor": "#E5ECF6",
            "gridcolor": "white",
            "gridwidth": 2,
            "linecolor": "white",
            "showbackground": true,
            "ticks": "",
            "zerolinecolor": "white"
           }
          },
          "shapedefaults": {
           "line": {
            "color": "#2a3f5f"
           }
          },
          "ternary": {
           "aaxis": {
            "gridcolor": "white",
            "linecolor": "white",
            "ticks": ""
           },
           "baxis": {
            "gridcolor": "white",
            "linecolor": "white",
            "ticks": ""
           },
           "bgcolor": "#E5ECF6",
           "caxis": {
            "gridcolor": "white",
            "linecolor": "white",
            "ticks": ""
           }
          },
          "title": {
           "x": 0.05
          },
          "xaxis": {
           "automargin": true,
           "gridcolor": "white",
           "linecolor": "white",
           "ticks": "",
           "title": {
            "standoff": 15
           },
           "zerolinecolor": "white",
           "zerolinewidth": 2
          },
          "yaxis": {
           "automargin": true,
           "gridcolor": "white",
           "linecolor": "white",
           "ticks": "",
           "title": {
            "standoff": 15
           },
           "zerolinecolor": "white",
           "zerolinewidth": 2
          }
         }
        },
        "title": {
         "text": "Global Tea Production 2022"
        },
        "width": 800
       }
      },
      "text/html": [
       "<div>                            <div id=\"3e111b97-831b-40b2-ac7d-5c798a27acc1\" class=\"plotly-graph-div\" style=\"height:600px; width:800px;\"></div>            <script type=\"text/javascript\">                require([\"plotly\"], function(Plotly) {                    window.PLOTLYENV=window.PLOTLYENV || {};                                    if (document.getElementById(\"3e111b97-831b-40b2-ac7d-5c798a27acc1\")) {                    Plotly.newPlot(                        \"3e111b97-831b-40b2-ac7d-5c798a27acc1\",                        [{\"branchvalues\":\"total\",\"customdata\":[[355144.0],[1000.0],[440000.0],[1198.0],[2013.0],[50400.0],[5505.0],[14542600.0],[11800.0],[225.0],[2981.0],[1567.0],[684.0],[10406.0],[2500.0],[551.0],[5969000.0],[595000.0],[93479.0],[304000.0],[2326000.0],[16800.0],[397.0],[207600.0],[15883.0],[92.0],[6351.0],[100.0],[5119.0],[98765.0],[107400.0],[5522.0],[1799.0],[2376.0],[81.0],[160419.0],[7.0],[1806.0],[1400000.0],[109194.0],[1300000.0],[326000.0],[110000.0],[1116746.0],[948.0],[63000.0]],\"domain\":{\"x\":[0.0,1.0],\"y\":[0.0,1.0]},\"hovertemplate\":\"labels=%{label}<br>production_sum=%{value}<br>parent=%{parent}<br>id=%{id}<br>production=%{color}<extra></extra>\",\"ids\":[\"Argentina\",\"Azerbaijan\",\"Bangladesh\",\"Bolivia (Plurinational State of)\",\"Brazil\",\"Burundi\",\"Cameroon\",\"China\",\"China, Taiwan Province of\",\"Colombia\",\"Democratic Republic of the Congo\",\"Ecuador\",\"El Salvador\",\"Ethiopia\",\"Georgia\",\"Guatemala\",\"India\",\"Indonesia\",\"Iran (Islamic Republic of)\",\"Japan\",\"Kenya\",\"Lao People's Democratic Republic\",\"Madagascar\",\"Malawi\",\"Malaysia\",\"Mali\",\"Mauritius\",\"Montenegro\",\"Mozambique\",\"Myanmar\",\"Nepal\",\"Papua New Guinea\",\"Peru\",\"Republic of Korea\",\"Russian Federation\",\"Rwanda\",\"Seychelles\",\"South Africa\",\"Sri Lanka\",\"Thailand\",\"T\\u00fcrkiye\",\"Uganda\",\"United Republic of Tanzania\",\"Viet Nam\",\"Zambia\",\"Zimbabwe\"],\"labels\":[\"Argentina\",\"Azerbaijan\",\"Bangladesh\",\"Bolivia (Plurinational State of)\",\"Brazil\",\"Burundi\",\"Cameroon\",\"China\",\"China, Taiwan Province of\",\"Colombia\",\"Democratic Republic of the Congo\",\"Ecuador\",\"El Salvador\",\"Ethiopia\",\"Georgia\",\"Guatemala\",\"India\",\"Indonesia\",\"Iran (Islamic Republic of)\",\"Japan\",\"Kenya\",\"Lao People's Democratic Republic\",\"Madagascar\",\"Malawi\",\"Malaysia\",\"Mali\",\"Mauritius\",\"Montenegro\",\"Mozambique\",\"Myanmar\",\"Nepal\",\"Papua New Guinea\",\"Peru\",\"Republic of Korea\",\"Russian Federation\",\"Rwanda\",\"Seychelles\",\"South Africa\",\"Sri Lanka\",\"Thailand\",\"T\\u00fcrkiye\",\"Uganda\",\"United Republic of Tanzania\",\"Viet Nam\",\"Zambia\",\"Zimbabwe\"],\"marker\":{\"coloraxis\":\"coloraxis\",\"colors\":[355144.0,1000.0,440000.0,1198.0,2013.0,50400.0,5505.0,14542600.0,11800.0,225.0,2981.0,1567.0,684.0,10406.0,2500.0,551.0,5969000.0,595000.0,93479.0,304000.0,2326000.0,16800.0,397.0,207600.0,15883.0,92.0,6351.0,100.0,5119.0,98765.0,107400.0,5522.0,1799.0,2376.0,81.0,160419.0,7.0,1806.0,1400000.0,109194.0,1300000.0,326000.0,110000.0,1116746.0,948.0,63000.0]},\"name\":\"\",\"parents\":[\"\",\"\",\"\",\"\",\"\",\"\",\"\",\"\",\"\",\"\",\"\",\"\",\"\",\"\",\"\",\"\",\"\",\"\",\"\",\"\",\"\",\"\",\"\",\"\",\"\",\"\",\"\",\"\",\"\",\"\",\"\",\"\",\"\",\"\",\"\",\"\",\"\",\"\",\"\",\"\",\"\",\"\",\"\",\"\",\"\",\"\"],\"values\":[355144,1000,440000,1198,2013,50400,5505,14542600,11800,225,2981,1567,684,10406,2500,551,5969000,595000,93479,304000,2326000,16800,397,207600,15883,92,6351,100,5119,98765,107400,5522,1799,2376,81,160419,7,1806,1400000,109194,1300000,326000,110000,1116746,948,63000],\"type\":\"treemap\",\"textinfo\":\"label+value+percent root\"}],                        {\"template\":{\"data\":{\"histogram2dcontour\":[{\"type\":\"histogram2dcontour\",\"colorbar\":{\"outlinewidth\":0,\"ticks\":\"\"},\"colorscale\":[[0.0,\"#0d0887\"],[0.1111111111111111,\"#46039f\"],[0.2222222222222222,\"#7201a8\"],[0.3333333333333333,\"#9c179e\"],[0.4444444444444444,\"#bd3786\"],[0.5555555555555556,\"#d8576b\"],[0.6666666666666666,\"#ed7953\"],[0.7777777777777778,\"#fb9f3a\"],[0.8888888888888888,\"#fdca26\"],[1.0,\"#f0f921\"]]}],\"choropleth\":[{\"type\":\"choropleth\",\"colorbar\":{\"outlinewidth\":0,\"ticks\":\"\"}}],\"histogram2d\":[{\"type\":\"histogram2d\",\"colorbar\":{\"outlinewidth\":0,\"ticks\":\"\"},\"colorscale\":[[0.0,\"#0d0887\"],[0.1111111111111111,\"#46039f\"],[0.2222222222222222,\"#7201a8\"],[0.3333333333333333,\"#9c179e\"],[0.4444444444444444,\"#bd3786\"],[0.5555555555555556,\"#d8576b\"],[0.6666666666666666,\"#ed7953\"],[0.7777777777777778,\"#fb9f3a\"],[0.8888888888888888,\"#fdca26\"],[1.0,\"#f0f921\"]]}],\"heatmap\":[{\"type\":\"heatmap\",\"colorbar\":{\"outlinewidth\":0,\"ticks\":\"\"},\"colorscale\":[[0.0,\"#0d0887\"],[0.1111111111111111,\"#46039f\"],[0.2222222222222222,\"#7201a8\"],[0.3333333333333333,\"#9c179e\"],[0.4444444444444444,\"#bd3786\"],[0.5555555555555556,\"#d8576b\"],[0.6666666666666666,\"#ed7953\"],[0.7777777777777778,\"#fb9f3a\"],[0.8888888888888888,\"#fdca26\"],[1.0,\"#f0f921\"]]}],\"heatmapgl\":[{\"type\":\"heatmapgl\",\"colorbar\":{\"outlinewidth\":0,\"ticks\":\"\"},\"colorscale\":[[0.0,\"#0d0887\"],[0.1111111111111111,\"#46039f\"],[0.2222222222222222,\"#7201a8\"],[0.3333333333333333,\"#9c179e\"],[0.4444444444444444,\"#bd3786\"],[0.5555555555555556,\"#d8576b\"],[0.6666666666666666,\"#ed7953\"],[0.7777777777777778,\"#fb9f3a\"],[0.8888888888888888,\"#fdca26\"],[1.0,\"#f0f921\"]]}],\"contourcarpet\":[{\"type\":\"contourcarpet\",\"colorbar\":{\"outlinewidth\":0,\"ticks\":\"\"}}],\"contour\":[{\"type\":\"contour\",\"colorbar\":{\"outlinewidth\":0,\"ticks\":\"\"},\"colorscale\":[[0.0,\"#0d0887\"],[0.1111111111111111,\"#46039f\"],[0.2222222222222222,\"#7201a8\"],[0.3333333333333333,\"#9c179e\"],[0.4444444444444444,\"#bd3786\"],[0.5555555555555556,\"#d8576b\"],[0.6666666666666666,\"#ed7953\"],[0.7777777777777778,\"#fb9f3a\"],[0.8888888888888888,\"#fdca26\"],[1.0,\"#f0f921\"]]}],\"surface\":[{\"type\":\"surface\",\"colorbar\":{\"outlinewidth\":0,\"ticks\":\"\"},\"colorscale\":[[0.0,\"#0d0887\"],[0.1111111111111111,\"#46039f\"],[0.2222222222222222,\"#7201a8\"],[0.3333333333333333,\"#9c179e\"],[0.4444444444444444,\"#bd3786\"],[0.5555555555555556,\"#d8576b\"],[0.6666666666666666,\"#ed7953\"],[0.7777777777777778,\"#fb9f3a\"],[0.8888888888888888,\"#fdca26\"],[1.0,\"#f0f921\"]]}],\"mesh3d\":[{\"type\":\"mesh3d\",\"colorbar\":{\"outlinewidth\":0,\"ticks\":\"\"}}],\"scatter\":[{\"fillpattern\":{\"fillmode\":\"overlay\",\"size\":10,\"solidity\":0.2},\"type\":\"scatter\"}],\"parcoords\":[{\"type\":\"parcoords\",\"line\":{\"colorbar\":{\"outlinewidth\":0,\"ticks\":\"\"}}}],\"scatterpolargl\":[{\"type\":\"scatterpolargl\",\"marker\":{\"colorbar\":{\"outlinewidth\":0,\"ticks\":\"\"}}}],\"bar\":[{\"error_x\":{\"color\":\"#2a3f5f\"},\"error_y\":{\"color\":\"#2a3f5f\"},\"marker\":{\"line\":{\"color\":\"#E5ECF6\",\"width\":0.5},\"pattern\":{\"fillmode\":\"overlay\",\"size\":10,\"solidity\":0.2}},\"type\":\"bar\"}],\"scattergeo\":[{\"type\":\"scattergeo\",\"marker\":{\"colorbar\":{\"outlinewidth\":0,\"ticks\":\"\"}}}],\"scatterpolar\":[{\"type\":\"scatterpolar\",\"marker\":{\"colorbar\":{\"outlinewidth\":0,\"ticks\":\"\"}}}],\"histogram\":[{\"marker\":{\"pattern\":{\"fillmode\":\"overlay\",\"size\":10,\"solidity\":0.2}},\"type\":\"histogram\"}],\"scattergl\":[{\"type\":\"scattergl\",\"marker\":{\"colorbar\":{\"outlinewidth\":0,\"ticks\":\"\"}}}],\"scatter3d\":[{\"type\":\"scatter3d\",\"line\":{\"colorbar\":{\"outlinewidth\":0,\"ticks\":\"\"}},\"marker\":{\"colorbar\":{\"outlinewidth\":0,\"ticks\":\"\"}}}],\"scattermapbox\":[{\"type\":\"scattermapbox\",\"marker\":{\"colorbar\":{\"outlinewidth\":0,\"ticks\":\"\"}}}],\"scatterternary\":[{\"type\":\"scatterternary\",\"marker\":{\"colorbar\":{\"outlinewidth\":0,\"ticks\":\"\"}}}],\"scattercarpet\":[{\"type\":\"scattercarpet\",\"marker\":{\"colorbar\":{\"outlinewidth\":0,\"ticks\":\"\"}}}],\"carpet\":[{\"aaxis\":{\"endlinecolor\":\"#2a3f5f\",\"gridcolor\":\"white\",\"linecolor\":\"white\",\"minorgridcolor\":\"white\",\"startlinecolor\":\"#2a3f5f\"},\"baxis\":{\"endlinecolor\":\"#2a3f5f\",\"gridcolor\":\"white\",\"linecolor\":\"white\",\"minorgridcolor\":\"white\",\"startlinecolor\":\"#2a3f5f\"},\"type\":\"carpet\"}],\"table\":[{\"cells\":{\"fill\":{\"color\":\"#EBF0F8\"},\"line\":{\"color\":\"white\"}},\"header\":{\"fill\":{\"color\":\"#C8D4E3\"},\"line\":{\"color\":\"white\"}},\"type\":\"table\"}],\"barpolar\":[{\"marker\":{\"line\":{\"color\":\"#E5ECF6\",\"width\":0.5},\"pattern\":{\"fillmode\":\"overlay\",\"size\":10,\"solidity\":0.2}},\"type\":\"barpolar\"}],\"pie\":[{\"automargin\":true,\"type\":\"pie\"}]},\"layout\":{\"autotypenumbers\":\"strict\",\"colorway\":[\"#636efa\",\"#EF553B\",\"#00cc96\",\"#ab63fa\",\"#FFA15A\",\"#19d3f3\",\"#FF6692\",\"#B6E880\",\"#FF97FF\",\"#FECB52\"],\"font\":{\"color\":\"#2a3f5f\"},\"hovermode\":\"closest\",\"hoverlabel\":{\"align\":\"left\"},\"paper_bgcolor\":\"white\",\"plot_bgcolor\":\"#E5ECF6\",\"polar\":{\"bgcolor\":\"#E5ECF6\",\"angularaxis\":{\"gridcolor\":\"white\",\"linecolor\":\"white\",\"ticks\":\"\"},\"radialaxis\":{\"gridcolor\":\"white\",\"linecolor\":\"white\",\"ticks\":\"\"}},\"ternary\":{\"bgcolor\":\"#E5ECF6\",\"aaxis\":{\"gridcolor\":\"white\",\"linecolor\":\"white\",\"ticks\":\"\"},\"baxis\":{\"gridcolor\":\"white\",\"linecolor\":\"white\",\"ticks\":\"\"},\"caxis\":{\"gridcolor\":\"white\",\"linecolor\":\"white\",\"ticks\":\"\"}},\"coloraxis\":{\"colorbar\":{\"outlinewidth\":0,\"ticks\":\"\"}},\"colorscale\":{\"sequential\":[[0.0,\"#0d0887\"],[0.1111111111111111,\"#46039f\"],[0.2222222222222222,\"#7201a8\"],[0.3333333333333333,\"#9c179e\"],[0.4444444444444444,\"#bd3786\"],[0.5555555555555556,\"#d8576b\"],[0.6666666666666666,\"#ed7953\"],[0.7777777777777778,\"#fb9f3a\"],[0.8888888888888888,\"#fdca26\"],[1.0,\"#f0f921\"]],\"sequentialminus\":[[0.0,\"#0d0887\"],[0.1111111111111111,\"#46039f\"],[0.2222222222222222,\"#7201a8\"],[0.3333333333333333,\"#9c179e\"],[0.4444444444444444,\"#bd3786\"],[0.5555555555555556,\"#d8576b\"],[0.6666666666666666,\"#ed7953\"],[0.7777777777777778,\"#fb9f3a\"],[0.8888888888888888,\"#fdca26\"],[1.0,\"#f0f921\"]],\"diverging\":[[0,\"#8e0152\"],[0.1,\"#c51b7d\"],[0.2,\"#de77ae\"],[0.3,\"#f1b6da\"],[0.4,\"#fde0ef\"],[0.5,\"#f7f7f7\"],[0.6,\"#e6f5d0\"],[0.7,\"#b8e186\"],[0.8,\"#7fbc41\"],[0.9,\"#4d9221\"],[1,\"#276419\"]]},\"xaxis\":{\"gridcolor\":\"white\",\"linecolor\":\"white\",\"ticks\":\"\",\"title\":{\"standoff\":15},\"zerolinecolor\":\"white\",\"automargin\":true,\"zerolinewidth\":2},\"yaxis\":{\"gridcolor\":\"white\",\"linecolor\":\"white\",\"ticks\":\"\",\"title\":{\"standoff\":15},\"zerolinecolor\":\"white\",\"automargin\":true,\"zerolinewidth\":2},\"scene\":{\"xaxis\":{\"backgroundcolor\":\"#E5ECF6\",\"gridcolor\":\"white\",\"linecolor\":\"white\",\"showbackground\":true,\"ticks\":\"\",\"zerolinecolor\":\"white\",\"gridwidth\":2},\"yaxis\":{\"backgroundcolor\":\"#E5ECF6\",\"gridcolor\":\"white\",\"linecolor\":\"white\",\"showbackground\":true,\"ticks\":\"\",\"zerolinecolor\":\"white\",\"gridwidth\":2},\"zaxis\":{\"backgroundcolor\":\"#E5ECF6\",\"gridcolor\":\"white\",\"linecolor\":\"white\",\"showbackground\":true,\"ticks\":\"\",\"zerolinecolor\":\"white\",\"gridwidth\":2}},\"shapedefaults\":{\"line\":{\"color\":\"#2a3f5f\"}},\"annotationdefaults\":{\"arrowcolor\":\"#2a3f5f\",\"arrowhead\":0,\"arrowwidth\":1},\"geo\":{\"bgcolor\":\"white\",\"landcolor\":\"#E5ECF6\",\"subunitcolor\":\"white\",\"showland\":true,\"showlakes\":true,\"lakecolor\":\"white\"},\"title\":{\"x\":0.05},\"mapbox\":{\"style\":\"light\"}}},\"coloraxis\":{\"colorbar\":{\"title\":{\"text\":\"production\"}},\"colorscale\":[[0.0,\"rgb(103,0,31)\"],[0.1,\"rgb(178,24,43)\"],[0.2,\"rgb(214,96,77)\"],[0.3,\"rgb(244,165,130)\"],[0.4,\"rgb(253,219,199)\"],[0.5,\"rgb(247,247,247)\"],[0.6,\"rgb(209,229,240)\"],[0.7,\"rgb(146,197,222)\"],[0.8,\"rgb(67,147,195)\"],[0.9,\"rgb(33,102,172)\"],[1.0,\"rgb(5,48,97)\"]]},\"legend\":{\"tracegroupgap\":0},\"title\":{\"text\":\"Global Tea Production 2022\"},\"height\":600,\"width\":800,\"margin\":{\"t\":50,\"l\":25,\"r\":25,\"b\":25},\"hovermode\":false},                        {\"responsive\": true}                    ).then(function(){\n",
       "                            \n",
       "var gd = document.getElementById('3e111b97-831b-40b2-ac7d-5c798a27acc1');\n",
       "var x = new MutationObserver(function (mutations, observer) {{\n",
       "        var display = window.getComputedStyle(gd).display;\n",
       "        if (!display || display === 'none') {{\n",
       "            console.log([gd, 'removed!']);\n",
       "            Plotly.purge(gd);\n",
       "            observer.disconnect();\n",
       "        }}\n",
       "}});\n",
       "\n",
       "// Listen for the removal of the full notebook cells\n",
       "var notebookContainer = gd.closest('#notebook-container');\n",
       "if (notebookContainer) {{\n",
       "    x.observe(notebookContainer, {childList: true});\n",
       "}}\n",
       "\n",
       "// Listen for the clearing of the current output cell\n",
       "var outputEl = gd.closest('.output');\n",
       "if (outputEl) {{\n",
       "    x.observe(outputEl, {childList: true});\n",
       "}}\n",
       "\n",
       "                        })                };                });            </script>        </div>"
      ]
     },
     "metadata": {},
     "output_type": "display_data"
    }
   ],
   "source": [
    "# Global tea production in 2022\n",
    "prod_2022 = global_prod[global_prod['year'] == 2022]\n",
    "prod_2022 = prod_2022.reset_index(drop=True)\n",
    "\n",
    "fig = px.treemap(prod_2022, path=['country'], values='production', color='production', color_continuous_scale='RdBu',\n",
    "                 title='Global Tea Production 2022', width=800, height=600)\n",
    "fig.update_layout(margin = dict(t=50, l=25, r=25, b=25), hovermode=False)\n",
    "fig.data[0].textinfo ='label+value+percent root'\n",
    "fig.show()"
   ]
  },
  {
   "cell_type": "code",
   "execution_count": 40,
   "id": "054ab946",
   "metadata": {},
   "outputs": [
    {
     "data": {
      "text/html": [
       "<div>\n",
       "<style scoped>\n",
       "    .dataframe tbody tr th:only-of-type {\n",
       "        vertical-align: middle;\n",
       "    }\n",
       "\n",
       "    .dataframe tbody tr th {\n",
       "        vertical-align: top;\n",
       "    }\n",
       "\n",
       "    .dataframe thead th {\n",
       "        text-align: right;\n",
       "    }\n",
       "</style>\n",
       "<table border=\"1\" class=\"dataframe\">\n",
       "  <thead>\n",
       "    <tr style=\"text-align: right;\">\n",
       "      <th></th>\n",
       "      <th>tahun</th>\n",
       "      <th>PBN</th>\n",
       "      <th>PBS</th>\n",
       "      <th>PR</th>\n",
       "      <th>Total</th>\n",
       "    </tr>\n",
       "  </thead>\n",
       "  <tbody>\n",
       "    <tr>\n",
       "      <th>0</th>\n",
       "      <td>2002</td>\n",
       "      <td>44608</td>\n",
       "      <td>39810</td>\n",
       "      <td>66289</td>\n",
       "      <td>150707</td>\n",
       "    </tr>\n",
       "    <tr>\n",
       "      <th>1</th>\n",
       "      <td>2003</td>\n",
       "      <td>41988</td>\n",
       "      <td>36874</td>\n",
       "      <td>64742</td>\n",
       "      <td>143604</td>\n",
       "    </tr>\n",
       "    <tr>\n",
       "      <th>2</th>\n",
       "      <td>2004</td>\n",
       "      <td>44768</td>\n",
       "      <td>35878</td>\n",
       "      <td>61902</td>\n",
       "      <td>142548</td>\n",
       "    </tr>\n",
       "    <tr>\n",
       "      <th>3</th>\n",
       "      <td>2005</td>\n",
       "      <td>44066</td>\n",
       "      <td>34284</td>\n",
       "      <td>60771</td>\n",
       "      <td>139121</td>\n",
       "    </tr>\n",
       "    <tr>\n",
       "      <th>4</th>\n",
       "      <td>2006</td>\n",
       "      <td>46661</td>\n",
       "      <td>27939</td>\n",
       "      <td>60990</td>\n",
       "      <td>135590</td>\n",
       "    </tr>\n",
       "    <tr>\n",
       "      <th>5</th>\n",
       "      <td>2007</td>\n",
       "      <td>42579</td>\n",
       "      <td>30207</td>\n",
       "      <td>60948</td>\n",
       "      <td>133734</td>\n",
       "    </tr>\n",
       "    <tr>\n",
       "      <th>6</th>\n",
       "      <td>2008</td>\n",
       "      <td>38946</td>\n",
       "      <td>28227</td>\n",
       "      <td>60539</td>\n",
       "      <td>127712</td>\n",
       "    </tr>\n",
       "    <tr>\n",
       "      <th>7</th>\n",
       "      <td>2009</td>\n",
       "      <td>38564</td>\n",
       "      <td>27816</td>\n",
       "      <td>57126</td>\n",
       "      <td>123506</td>\n",
       "    </tr>\n",
       "    <tr>\n",
       "      <th>8</th>\n",
       "      <td>2010</td>\n",
       "      <td>38750</td>\n",
       "      <td>27683</td>\n",
       "      <td>56465</td>\n",
       "      <td>122898</td>\n",
       "    </tr>\n",
       "    <tr>\n",
       "      <th>9</th>\n",
       "      <td>2011</td>\n",
       "      <td>38609</td>\n",
       "      <td>29346</td>\n",
       "      <td>55983</td>\n",
       "      <td>123938</td>\n",
       "    </tr>\n",
       "    <tr>\n",
       "      <th>10</th>\n",
       "      <td>2012</td>\n",
       "      <td>38103</td>\n",
       "      <td>27845</td>\n",
       "      <td>56258</td>\n",
       "      <td>122206</td>\n",
       "    </tr>\n",
       "    <tr>\n",
       "      <th>11</th>\n",
       "      <td>2013</td>\n",
       "      <td>37922</td>\n",
       "      <td>28021</td>\n",
       "      <td>56092</td>\n",
       "      <td>122035</td>\n",
       "    </tr>\n",
       "    <tr>\n",
       "      <th>12</th>\n",
       "      <td>2014</td>\n",
       "      <td>37398</td>\n",
       "      <td>28143</td>\n",
       "      <td>53358</td>\n",
       "      <td>118899</td>\n",
       "    </tr>\n",
       "    <tr>\n",
       "      <th>13</th>\n",
       "      <td>2015</td>\n",
       "      <td>33124</td>\n",
       "      <td>28219</td>\n",
       "      <td>53549</td>\n",
       "      <td>114892</td>\n",
       "    </tr>\n",
       "    <tr>\n",
       "      <th>14</th>\n",
       "      <td>2016</td>\n",
       "      <td>33123</td>\n",
       "      <td>28111</td>\n",
       "      <td>52383</td>\n",
       "      <td>113617</td>\n",
       "    </tr>\n",
       "    <tr>\n",
       "      <th>15</th>\n",
       "      <td>2017</td>\n",
       "      <td>33964</td>\n",
       "      <td>27105</td>\n",
       "      <td>52237</td>\n",
       "      <td>113306</td>\n",
       "    </tr>\n",
       "    <tr>\n",
       "      <th>16</th>\n",
       "      <td>2018</td>\n",
       "      <td>32684</td>\n",
       "      <td>25475</td>\n",
       "      <td>51777</td>\n",
       "      <td>109936</td>\n",
       "    </tr>\n",
       "    <tr>\n",
       "      <th>17</th>\n",
       "      <td>2019</td>\n",
       "      <td>37205</td>\n",
       "      <td>22581</td>\n",
       "      <td>51329</td>\n",
       "      <td>111115</td>\n",
       "    </tr>\n",
       "    <tr>\n",
       "      <th>18</th>\n",
       "      <td>2020</td>\n",
       "      <td>38333</td>\n",
       "      <td>22740</td>\n",
       "      <td>51235</td>\n",
       "      <td>112308</td>\n",
       "    </tr>\n",
       "    <tr>\n",
       "      <th>19</th>\n",
       "      <td>2021</td>\n",
       "      <td>32283</td>\n",
       "      <td>19445</td>\n",
       "      <td>50350</td>\n",
       "      <td>102078</td>\n",
       "    </tr>\n",
       "    <tr>\n",
       "      <th>20</th>\n",
       "      <td>2022</td>\n",
       "      <td>29561</td>\n",
       "      <td>21407</td>\n",
       "      <td>50313</td>\n",
       "      <td>101281</td>\n",
       "    </tr>\n",
       "  </tbody>\n",
       "</table>\n",
       "</div>"
      ],
      "text/plain": [
       "    tahun    PBN    PBS     PR   Total\n",
       "0    2002  44608  39810  66289  150707\n",
       "1    2003  41988  36874  64742  143604\n",
       "2    2004  44768  35878  61902  142548\n",
       "3    2005  44066  34284  60771  139121\n",
       "4    2006  46661  27939  60990  135590\n",
       "5    2007  42579  30207  60948  133734\n",
       "6    2008  38946  28227  60539  127712\n",
       "7    2009  38564  27816  57126  123506\n",
       "8    2010  38750  27683  56465  122898\n",
       "9    2011  38609  29346  55983  123938\n",
       "10   2012  38103  27845  56258  122206\n",
       "11   2013  37922  28021  56092  122035\n",
       "12   2014  37398  28143  53358  118899\n",
       "13   2015  33124  28219  53549  114892\n",
       "14   2016  33123  28111  52383  113617\n",
       "15   2017  33964  27105  52237  113306\n",
       "16   2018  32684  25475  51777  109936\n",
       "17   2019  37205  22581  51329  111115\n",
       "18   2020  38333  22740  51235  112308\n",
       "19   2021  32283  19445  50350  102078\n",
       "20   2022  29561  21407  50313  101281"
      ]
     },
     "execution_count": 40,
     "metadata": {},
     "output_type": "execute_result"
    }
   ],
   "source": [
    "# Exploring data 2: National tea production area (Ha)\n",
    "tea_areaprod = tea_areaprod.rename(columns={'luas_PBN':'PBN', 'luas_PBS':'PBS', \n",
    "                                    'luas_PR':'PR', 'total_luas':'Total'})\n",
    "tea_areaprod"
   ]
  },
  {
   "cell_type": "code",
   "execution_count": 42,
   "id": "81f9afea",
   "metadata": {},
   "outputs": [
    {
     "name": "stdout",
     "output_type": "stream",
     "text": [
      "150707 2002\n"
     ]
    }
   ],
   "source": [
    "# Finding the maximum production area value\n",
    "max_idx= tea_areaprod['Total'].idxmax()\n",
    "max_areaprod = tea_areaprod['Total'].loc[max_idx]\n",
    "yearmax_areaprod = tea_areaprod['tahun'].loc[max_idx]\n",
    "print(max_areaprod, yearmax_areaprod)"
   ]
  },
  {
   "cell_type": "code",
   "execution_count": 43,
   "id": "3ae0f57e",
   "metadata": {
    "scrolled": true
   },
   "outputs": [
    {
     "name": "stdout",
     "output_type": "stream",
     "text": [
      "-32.8%\n"
     ]
    }
   ],
   "source": [
    "# Calculating the difference between current value and the maximum value\n",
    "curr_year_idx = tea_areaprod['tahun'].idxmax()\n",
    "curr_areaprod = tea_areaprod['Total'].loc[curr_year_idx]\n",
    "pct_diff = (curr_areaprod - max_areaprod)/max_areaprod\n",
    "print(f\"{pct_diff:.1%}\")"
   ]
  },
  {
   "cell_type": "code",
   "execution_count": 45,
   "id": "5573c7f2",
   "metadata": {},
   "outputs": [
    {
     "name": "stdout",
     "output_type": "stream",
     "text": [
      "-0.8%\n"
     ]
    }
   ],
   "source": [
    "# Calculating differences with previous year\n",
    "prev_areaprod = tea_areaprod['Total'].loc[curr_year_idx-1]\n",
    "pct_diff = (curr_areaprod - prev_areaprod)/prev_areaprod\n",
    "print(f\"{pct_diff:.1%}\")"
   ]
  },
  {
   "cell_type": "code",
   "execution_count": 9,
   "id": "20acd082",
   "metadata": {},
   "outputs": [],
   "source": [
    "#Transforming the table\n",
    "tea_areaprod_m = tea_areaprod.melt(id_vars=['tahun'], value_vars=\n",
    "                            ['PBN', 'PBS', 'PR', 'Total'], \n",
    "                             var_name='Kepemilikan', value_name='Luas')"
   ]
  },
  {
   "cell_type": "code",
   "execution_count": 10,
   "id": "7c703339",
   "metadata": {},
   "outputs": [
    {
     "data": {
      "image/png": "[encoded data removed]",
      "text/plain": [
       "<Figure size 900x600 with 1 Axes>"
      ]
     },
     "metadata": {},
     "output_type": "display_data"
    }
   ],
   "source": [
    "#Visualizing data\n",
    "plt.figure(figsize=(9,6))\n",
    "sns.lineplot(data=tea_areaprod_m, x='tahun', y='Luas', hue='Kepemilikan', marker='o', palette='dark')\n",
    "\n",
    "#Set the x-axis ticks to integers\n",
    "plt.gca().xaxis.set_major_locator(MaxNLocator(integer=True))\n",
    "\n",
    "plt.ylim(0,160000)\n",
    "\n",
    "#Add labels and title\n",
    "plt.xlabel('Tahun')\n",
    "plt.ylabel('Luas Area (Ha)')\n",
    "plt.title('Luas Area Produksi Teh Indonesia', fontweight='bold', fontsize=14)\n",
    "\n",
    "#Format y-axis with '.' as the thousand separator\n",
    "def format_thousands(x, pos):\n",
    "    return '{:,.0f}'.format(x).replace(',', '.')\n",
    "\n",
    "plt.gca().yaxis.set_major_formatter(FuncFormatter(format_thousands))\n",
    "\n",
    "#Show the plot\n",
    "plt.show()"
   ]
  },
  {
   "cell_type": "code",
   "execution_count": 46,
   "id": "a1c56bf8",
   "metadata": {},
   "outputs": [
    {
     "data": {
      "text/html": [
       "<div>\n",
       "<style scoped>\n",
       "    .dataframe tbody tr th:only-of-type {\n",
       "        vertical-align: middle;\n",
       "    }\n",
       "\n",
       "    .dataframe tbody tr th {\n",
       "        vertical-align: top;\n",
       "    }\n",
       "\n",
       "    .dataframe thead th {\n",
       "        text-align: right;\n",
       "    }\n",
       "</style>\n",
       "<table border=\"1\" class=\"dataframe\">\n",
       "  <thead>\n",
       "    <tr style=\"text-align: right;\">\n",
       "      <th></th>\n",
       "      <th>tahun</th>\n",
       "      <th>PBN</th>\n",
       "      <th>PBS</th>\n",
       "      <th>PR</th>\n",
       "      <th>Total</th>\n",
       "    </tr>\n",
       "  </thead>\n",
       "  <tbody>\n",
       "    <tr>\n",
       "      <th>0</th>\n",
       "      <td>2002</td>\n",
       "      <td>80426</td>\n",
       "      <td>39995</td>\n",
       "      <td>44773</td>\n",
       "      <td>165194</td>\n",
       "    </tr>\n",
       "    <tr>\n",
       "      <th>1</th>\n",
       "      <td>2003</td>\n",
       "      <td>82082</td>\n",
       "      <td>40660</td>\n",
       "      <td>47079</td>\n",
       "      <td>169821</td>\n",
       "    </tr>\n",
       "    <tr>\n",
       "      <th>2</th>\n",
       "      <td>2004</td>\n",
       "      <td>89303</td>\n",
       "      <td>36448</td>\n",
       "      <td>40200</td>\n",
       "      <td>165951</td>\n",
       "    </tr>\n",
       "    <tr>\n",
       "      <th>3</th>\n",
       "      <td>2005</td>\n",
       "      <td>89959</td>\n",
       "      <td>38386</td>\n",
       "      <td>37746</td>\n",
       "      <td>166091</td>\n",
       "    </tr>\n",
       "    <tr>\n",
       "      <th>4</th>\n",
       "      <td>2006</td>\n",
       "      <td>81847</td>\n",
       "      <td>27657</td>\n",
       "      <td>37355</td>\n",
       "      <td>146859</td>\n",
       "    </tr>\n",
       "    <tr>\n",
       "      <th>5</th>\n",
       "      <td>2007</td>\n",
       "      <td>80274</td>\n",
       "      <td>31012</td>\n",
       "      <td>38937</td>\n",
       "      <td>150223</td>\n",
       "    </tr>\n",
       "    <tr>\n",
       "      <th>6</th>\n",
       "      <td>2008</td>\n",
       "      <td>78354</td>\n",
       "      <td>37024</td>\n",
       "      <td>38593</td>\n",
       "      <td>153971</td>\n",
       "    </tr>\n",
       "    <tr>\n",
       "      <th>7</th>\n",
       "      <td>2009</td>\n",
       "      <td>75451</td>\n",
       "      <td>36211</td>\n",
       "      <td>45239</td>\n",
       "      <td>156901</td>\n",
       "    </tr>\n",
       "    <tr>\n",
       "      <th>8</th>\n",
       "      <td>2010</td>\n",
       "      <td>73524</td>\n",
       "      <td>32133</td>\n",
       "      <td>50947</td>\n",
       "      <td>156604</td>\n",
       "    </tr>\n",
       "    <tr>\n",
       "      <th>9</th>\n",
       "      <td>2011</td>\n",
       "      <td>65144</td>\n",
       "      <td>34125</td>\n",
       "      <td>51507</td>\n",
       "      <td>150776</td>\n",
       "    </tr>\n",
       "    <tr>\n",
       "      <th>10</th>\n",
       "      <td>2012</td>\n",
       "      <td>59351</td>\n",
       "      <td>34483</td>\n",
       "      <td>51741</td>\n",
       "      <td>145575</td>\n",
       "    </tr>\n",
       "    <tr>\n",
       "      <th>11</th>\n",
       "      <td>2013</td>\n",
       "      <td>58814</td>\n",
       "      <td>34909</td>\n",
       "      <td>51737</td>\n",
       "      <td>145460</td>\n",
       "    </tr>\n",
       "    <tr>\n",
       "      <th>12</th>\n",
       "      <td>2014</td>\n",
       "      <td>65343</td>\n",
       "      <td>38170</td>\n",
       "      <td>50856</td>\n",
       "      <td>154369</td>\n",
       "    </tr>\n",
       "    <tr>\n",
       "      <th>13</th>\n",
       "      <td>2015</td>\n",
       "      <td>46591</td>\n",
       "      <td>36551</td>\n",
       "      <td>49473</td>\n",
       "      <td>132615</td>\n",
       "    </tr>\n",
       "    <tr>\n",
       "      <th>14</th>\n",
       "      <td>2016</td>\n",
       "      <td>53540</td>\n",
       "      <td>37663</td>\n",
       "      <td>47732</td>\n",
       "      <td>138935</td>\n",
       "    </tr>\n",
       "    <tr>\n",
       "      <th>15</th>\n",
       "      <td>2017</td>\n",
       "      <td>56584</td>\n",
       "      <td>41006</td>\n",
       "      <td>48661</td>\n",
       "      <td>146251</td>\n",
       "    </tr>\n",
       "    <tr>\n",
       "      <th>16</th>\n",
       "      <td>2018</td>\n",
       "      <td>54555</td>\n",
       "      <td>35461</td>\n",
       "      <td>50220</td>\n",
       "      <td>140236</td>\n",
       "    </tr>\n",
       "    <tr>\n",
       "      <th>17</th>\n",
       "      <td>2019</td>\n",
       "      <td>48463</td>\n",
       "      <td>30986</td>\n",
       "      <td>50383</td>\n",
       "      <td>129832</td>\n",
       "    </tr>\n",
       "    <tr>\n",
       "      <th>18</th>\n",
       "      <td>2020</td>\n",
       "      <td>57314</td>\n",
       "      <td>36843</td>\n",
       "      <td>49907</td>\n",
       "      <td>144064</td>\n",
       "    </tr>\n",
       "    <tr>\n",
       "      <th>19</th>\n",
       "      <td>2021</td>\n",
       "      <td>56281</td>\n",
       "      <td>31287</td>\n",
       "      <td>50269</td>\n",
       "      <td>137837</td>\n",
       "    </tr>\n",
       "    <tr>\n",
       "      <th>20</th>\n",
       "      <td>2022</td>\n",
       "      <td>50848</td>\n",
       "      <td>23917</td>\n",
       "      <td>49896</td>\n",
       "      <td>124661</td>\n",
       "    </tr>\n",
       "  </tbody>\n",
       "</table>\n",
       "</div>"
      ],
      "text/plain": [
       "    tahun    PBN    PBS     PR   Total\n",
       "0    2002  80426  39995  44773  165194\n",
       "1    2003  82082  40660  47079  169821\n",
       "2    2004  89303  36448  40200  165951\n",
       "3    2005  89959  38386  37746  166091\n",
       "4    2006  81847  27657  37355  146859\n",
       "5    2007  80274  31012  38937  150223\n",
       "6    2008  78354  37024  38593  153971\n",
       "7    2009  75451  36211  45239  156901\n",
       "8    2010  73524  32133  50947  156604\n",
       "9    2011  65144  34125  51507  150776\n",
       "10   2012  59351  34483  51741  145575\n",
       "11   2013  58814  34909  51737  145460\n",
       "12   2014  65343  38170  50856  154369\n",
       "13   2015  46591  36551  49473  132615\n",
       "14   2016  53540  37663  47732  138935\n",
       "15   2017  56584  41006  48661  146251\n",
       "16   2018  54555  35461  50220  140236\n",
       "17   2019  48463  30986  50383  129832\n",
       "18   2020  57314  36843  49907  144064\n",
       "19   2021  56281  31287  50269  137837\n",
       "20   2022  50848  23917  49896  124661"
      ]
     },
     "execution_count": 46,
     "metadata": {},
     "output_type": "execute_result"
    }
   ],
   "source": [
    "# Exploring data 3: National tea production (tonnes)\n",
    "tea_prod = tea_prod.rename(columns={'prod_PBN':'PBN', 'prod_PBS':'PBS', \n",
    "                                    'prod_PR':'PR', 'total_prod':'Total'})\n",
    "tea_prod"
   ]
  },
  {
   "cell_type": "code",
   "execution_count": 47,
   "id": "aa4ce740",
   "metadata": {},
   "outputs": [
    {
     "name": "stdout",
     "output_type": "stream",
     "text": [
      "169821 2003\n"
     ]
    }
   ],
   "source": [
    "# Finding the maximum production value\n",
    "max_idx= tea_prod['Total'].idxmax()\n",
    "max_prod = tea_prod['Total'].loc[max_idx]\n",
    "yearmax_prod = tea_prod['tahun'].loc[max_idx]\n",
    "print(max_prod, yearmax_prod)"
   ]
  },
  {
   "cell_type": "code",
   "execution_count": 48,
   "id": "2e9a9ea3",
   "metadata": {},
   "outputs": [
    {
     "name": "stdout",
     "output_type": "stream",
     "text": [
      "-26.6%\n"
     ]
    }
   ],
   "source": [
    "#Calculating the difference between current value and the maximum value\n",
    "curr_year_idx = tea_prod['tahun'].idxmax()\n",
    "curr_prod = tea_prod['Total'].loc[curr_year_idx]\n",
    "pct_diff = (curr_prod - max_prod)/max_prod\n",
    "print(f\"{pct_diff:.1%}\")"
   ]
  },
  {
   "cell_type": "code",
   "execution_count": 49,
   "id": "cefb4842",
   "metadata": {},
   "outputs": [
    {
     "name": "stdout",
     "output_type": "stream",
     "text": [
      "-9.6%\n"
     ]
    }
   ],
   "source": [
    "# Calculating differences with previous year\n",
    "prev_prod = tea_prod['Total'].loc[curr_year_idx-1]\n",
    "pct_diff = (curr_prod - prev_prod)/prev_prod\n",
    "print(f\"{pct_diff:.1%}\")"
   ]
  },
  {
   "cell_type": "code",
   "execution_count": 14,
   "id": "bbeb415d",
   "metadata": {},
   "outputs": [],
   "source": [
    "# Transforming the table\n",
    "tea_prod_m = tea_prod.melt(id_vars=['tahun'], value_vars=\n",
    "                            ['PBN', 'PBS', 'PR', 'Total'], \n",
    "                             var_name='Kepemilikan', value_name='produksi')"
   ]
  },
  {
   "cell_type": "code",
   "execution_count": 15,
   "id": "272a45ab",
   "metadata": {},
   "outputs": [
    {
     "data": {
      "image/png": "[encoded data removed]",
      "text/plain": [
       "<Figure size 900x600 with 1 Axes>"
      ]
     },
     "metadata": {},
     "output_type": "display_data"
    }
   ],
   "source": [
    "# Visualizing tea production trend over time\n",
    "plt.figure(figsize=(9,6))\n",
    "sns.lineplot(data=tea_prod_m, x='tahun', y='produksi', hue='Kepemilikan', marker='o', palette='dark')\n",
    "\n",
    "plt.gca().xaxis.set_major_locator(MaxNLocator(integer=True))\n",
    "plt.ylim(0,175000)\n",
    "\n",
    "plt.xlabel('Tahun')\n",
    "plt.ylabel('Jumlah (ton)')\n",
    "plt.title('Produksi Teh Indonesia', fontweight='bold', fontsize=14)\n",
    "\n",
    "def format_thousands(x, pos):\n",
    "    return '{:,.0f}'.format(x).replace(',', '.')\n",
    "plt.gca().yaxis.set_major_formatter(FuncFormatter(format_thousands))\n",
    "\n",
    "plt.show()"
   ]
  },
  {
   "cell_type": "code",
   "execution_count": 16,
   "id": "332d906a",
   "metadata": {},
   "outputs": [
    {
     "data": {
      "text/html": [
       "<div>\n",
       "<style scoped>\n",
       "    .dataframe tbody tr th:only-of-type {\n",
       "        vertical-align: middle;\n",
       "    }\n",
       "\n",
       "    .dataframe tbody tr th {\n",
       "        vertical-align: top;\n",
       "    }\n",
       "\n",
       "    .dataframe thead th {\n",
       "        text-align: right;\n",
       "    }\n",
       "</style>\n",
       "<table border=\"1\" class=\"dataframe\">\n",
       "  <thead>\n",
       "    <tr style=\"text-align: right;\">\n",
       "      <th></th>\n",
       "      <th>tahun</th>\n",
       "      <th>ekspor_ton</th>\n",
       "      <th>ekspor_nilai</th>\n",
       "      <th>impor_ton</th>\n",
       "      <th>impor_nilai</th>\n",
       "    </tr>\n",
       "  </thead>\n",
       "  <tbody>\n",
       "    <tr>\n",
       "      <th>0</th>\n",
       "      <td>2002</td>\n",
       "      <td>100184</td>\n",
       "      <td>103427</td>\n",
       "      <td>3526</td>\n",
       "      <td>3651</td>\n",
       "    </tr>\n",
       "    <tr>\n",
       "      <th>1</th>\n",
       "      <td>2003</td>\n",
       "      <td>88894</td>\n",
       "      <td>95970</td>\n",
       "      <td>4000</td>\n",
       "      <td>3807</td>\n",
       "    </tr>\n",
       "    <tr>\n",
       "      <th>2</th>\n",
       "      <td>2004</td>\n",
       "      <td>98572</td>\n",
       "      <td>116018</td>\n",
       "      <td>3925</td>\n",
       "      <td>5531</td>\n",
       "    </tr>\n",
       "    <tr>\n",
       "      <th>3</th>\n",
       "      <td>2005</td>\n",
       "      <td>102572</td>\n",
       "      <td>121777</td>\n",
       "      <td>5479</td>\n",
       "      <td>7161</td>\n",
       "    </tr>\n",
       "    <tr>\n",
       "      <th>4</th>\n",
       "      <td>2006</td>\n",
       "      <td>95339</td>\n",
       "      <td>134515</td>\n",
       "      <td>5294</td>\n",
       "      <td>8703</td>\n",
       "    </tr>\n",
       "    <tr>\n",
       "      <th>5</th>\n",
       "      <td>2007</td>\n",
       "      <td>83659</td>\n",
       "      <td>125243</td>\n",
       "      <td>10366</td>\n",
       "      <td>11855</td>\n",
       "    </tr>\n",
       "    <tr>\n",
       "      <th>6</th>\n",
       "      <td>2008</td>\n",
       "      <td>96210</td>\n",
       "      <td>158958</td>\n",
       "      <td>6625</td>\n",
       "      <td>11990</td>\n",
       "    </tr>\n",
       "    <tr>\n",
       "      <th>7</th>\n",
       "      <td>2009</td>\n",
       "      <td>92304</td>\n",
       "      <td>171628</td>\n",
       "      <td>7169</td>\n",
       "      <td>12537</td>\n",
       "    </tr>\n",
       "    <tr>\n",
       "      <th>8</th>\n",
       "      <td>2010</td>\n",
       "      <td>87101</td>\n",
       "      <td>178548</td>\n",
       "      <td>10688</td>\n",
       "      <td>18198</td>\n",
       "    </tr>\n",
       "    <tr>\n",
       "      <th>9</th>\n",
       "      <td>2011</td>\n",
       "      <td>75450</td>\n",
       "      <td>166717</td>\n",
       "      <td>19812</td>\n",
       "      <td>27318</td>\n",
       "    </tr>\n",
       "    <tr>\n",
       "      <th>10</th>\n",
       "      <td>2012</td>\n",
       "      <td>70071</td>\n",
       "      <td>156788</td>\n",
       "      <td>24397</td>\n",
       "      <td>33249</td>\n",
       "    </tr>\n",
       "    <tr>\n",
       "      <th>11</th>\n",
       "      <td>2013</td>\n",
       "      <td>70842</td>\n",
       "      <td>157498</td>\n",
       "      <td>20580</td>\n",
       "      <td>29343</td>\n",
       "    </tr>\n",
       "    <tr>\n",
       "      <th>12</th>\n",
       "      <td>2014</td>\n",
       "      <td>66399</td>\n",
       "      <td>134584</td>\n",
       "      <td>14662</td>\n",
       "      <td>24430</td>\n",
       "    </tr>\n",
       "    <tr>\n",
       "      <th>13</th>\n",
       "      <td>2015</td>\n",
       "      <td>61915</td>\n",
       "      <td>126051</td>\n",
       "      <td>15164</td>\n",
       "      <td>25747</td>\n",
       "    </tr>\n",
       "    <tr>\n",
       "      <th>14</th>\n",
       "      <td>2016</td>\n",
       "      <td>51319</td>\n",
       "      <td>113108</td>\n",
       "      <td>22095</td>\n",
       "      <td>29844</td>\n",
       "    </tr>\n",
       "    <tr>\n",
       "      <th>15</th>\n",
       "      <td>2017</td>\n",
       "      <td>54187</td>\n",
       "      <td>114211</td>\n",
       "      <td>14679</td>\n",
       "      <td>26223</td>\n",
       "    </tr>\n",
       "    <tr>\n",
       "      <th>16</th>\n",
       "      <td>2018</td>\n",
       "      <td>49038</td>\n",
       "      <td>108451</td>\n",
       "      <td>14922</td>\n",
       "      <td>29430</td>\n",
       "    </tr>\n",
       "    <tr>\n",
       "      <th>17</th>\n",
       "      <td>2019</td>\n",
       "      <td>42811</td>\n",
       "      <td>92347</td>\n",
       "      <td>16326</td>\n",
       "      <td>36037</td>\n",
       "    </tr>\n",
       "    <tr>\n",
       "      <th>18</th>\n",
       "      <td>2020</td>\n",
       "      <td>45265</td>\n",
       "      <td>96323</td>\n",
       "      <td>14909</td>\n",
       "      <td>25857</td>\n",
       "    </tr>\n",
       "    <tr>\n",
       "      <th>19</th>\n",
       "      <td>2021</td>\n",
       "      <td>42654</td>\n",
       "      <td>89158</td>\n",
       "      <td>10609</td>\n",
       "      <td>23019</td>\n",
       "    </tr>\n",
       "    <tr>\n",
       "      <th>20</th>\n",
       "      <td>2022</td>\n",
       "      <td>44979</td>\n",
       "      <td>89990</td>\n",
       "      <td>10883</td>\n",
       "      <td>29761</td>\n",
       "    </tr>\n",
       "  </tbody>\n",
       "</table>\n",
       "</div>"
      ],
      "text/plain": [
       "    tahun  ekspor_ton  ekspor_nilai  impor_ton  impor_nilai\n",
       "0    2002      100184        103427       3526         3651\n",
       "1    2003       88894         95970       4000         3807\n",
       "2    2004       98572        116018       3925         5531\n",
       "3    2005      102572        121777       5479         7161\n",
       "4    2006       95339        134515       5294         8703\n",
       "5    2007       83659        125243      10366        11855\n",
       "6    2008       96210        158958       6625        11990\n",
       "7    2009       92304        171628       7169        12537\n",
       "8    2010       87101        178548      10688        18198\n",
       "9    2011       75450        166717      19812        27318\n",
       "10   2012       70071        156788      24397        33249\n",
       "11   2013       70842        157498      20580        29343\n",
       "12   2014       66399        134584      14662        24430\n",
       "13   2015       61915        126051      15164        25747\n",
       "14   2016       51319        113108      22095        29844\n",
       "15   2017       54187        114211      14679        26223\n",
       "16   2018       49038        108451      14922        29430\n",
       "17   2019       42811         92347      16326        36037\n",
       "18   2020       45265         96323      14909        25857\n",
       "19   2021       42654         89158      10609        23019\n",
       "20   2022       44979         89990      10883        29761"
      ]
     },
     "execution_count": 16,
     "metadata": {},
     "output_type": "execute_result"
    }
   ],
   "source": [
    "# Exploring data 4: Tea export and import\n",
    "tea_eximp"
   ]
  },
  {
   "cell_type": "code",
   "execution_count": 17,
   "id": "61e0ea1c",
   "metadata": {},
   "outputs": [
    {
     "name": "stdout",
     "output_type": "stream",
     "text": [
      "102572 2005\n"
     ]
    }
   ],
   "source": [
    "# Finding the maximum export value (tonnes)\n",
    "max_idx= tea_eximp['ekspor_ton'].idxmax()\n",
    "max_exp = tea_eximp['ekspor_ton'].loc[max_idx]\n",
    "yearmax_exp = tea_eximp['tahun'].loc[max_idx]\n",
    "print(max_exp, yearmax_exp)"
   ]
  },
  {
   "cell_type": "code",
   "execution_count": 18,
   "id": "e950a457",
   "metadata": {},
   "outputs": [
    {
     "name": "stdout",
     "output_type": "stream",
     "text": [
      "-56.1%\n"
     ]
    }
   ],
   "source": [
    "# Calculating the difference between current value and the maximum value\n",
    "curr_year_idx = tea_eximp['tahun'].idxmax()\n",
    "curr_exp = tea_eximp['ekspor_ton'].loc[curr_year_idx]\n",
    "pct_diff = (curr_exp - max_exp)/max_exp\n",
    "print(f\"{pct_diff:.1%}\")"
   ]
  },
  {
   "cell_type": "code",
   "execution_count": 50,
   "id": "135e2b03",
   "metadata": {},
   "outputs": [
    {
     "name": "stdout",
     "output_type": "stream",
     "text": [
      "5.5%\n"
     ]
    }
   ],
   "source": [
    "# Calculating differences with previous year\n",
    "prev_exp = tea_eximp['ekspor_ton'].loc[curr_year_idx-1]\n",
    "pct_diff = (curr_exp - prev_exp)/prev_exp\n",
    "print(f\"{pct_diff:.1%}\")"
   ]
  },
  {
   "cell_type": "code",
   "execution_count": 19,
   "id": "4ff242a0",
   "metadata": {},
   "outputs": [
    {
     "name": "stdout",
     "output_type": "stream",
     "text": [
      "178548 2010\n"
     ]
    }
   ],
   "source": [
    "# Finding the maximum export value (000 USD)\n",
    "max_idx= tea_eximp['ekspor_nilai'].idxmax()\n",
    "max_expv = tea_eximp['ekspor_nilai'].loc[max_idx]\n",
    "yearmax_expv = tea_eximp['tahun'].loc[max_idx]\n",
    "print(max_expv, yearmax_expv)"
   ]
  },
  {
   "cell_type": "code",
   "execution_count": 20,
   "id": "1ff37863",
   "metadata": {},
   "outputs": [
    {
     "name": "stdout",
     "output_type": "stream",
     "text": [
      "-49.6%\n"
     ]
    }
   ],
   "source": [
    "# Calculating the difference between current value and the maximum value\n",
    "curr_year_idx = tea_eximp['tahun'].idxmax()\n",
    "curr_expv = tea_eximp['ekspor_nilai'].loc[curr_year_idx]\n",
    "pct_diff = (curr_expv - max_expv)/max_expv\n",
    "print(f\"{pct_diff:.1%}\")"
   ]
  },
  {
   "cell_type": "code",
   "execution_count": 52,
   "id": "acec1ae5",
   "metadata": {},
   "outputs": [
    {
     "name": "stdout",
     "output_type": "stream",
     "text": [
      "0.9%\n"
     ]
    }
   ],
   "source": [
    "# Calculating differences with previous year\n",
    "prev_expv = tea_eximp['ekspor_nilai'].loc[curr_year_idx-1]\n",
    "pct_diff = (curr_expv - prev_expv)/prev_expv\n",
    "print(f\"{pct_diff:.1%}\")"
   ]
  },
  {
   "cell_type": "code",
   "execution_count": 53,
   "id": "66b05ac6",
   "metadata": {},
   "outputs": [
    {
     "name": "stdout",
     "output_type": "stream",
     "text": [
      "2.6%\n"
     ]
    }
   ],
   "source": [
    "# Calculating import quantity differences with previous year\n",
    "prev_imp = tea_eximp['impor_ton'].loc[curr_year_idx-1]\n",
    "curr_imp = tea_eximp['impor_ton'].loc[curr_year_idx]\n",
    "pct_diff = (curr_imp - prev_imp)/prev_imp\n",
    "print(f\"{pct_diff:.1%}\")"
   ]
  },
  {
   "cell_type": "code",
   "execution_count": 58,
   "id": "b9f7d7cb",
   "metadata": {},
   "outputs": [
    {
     "name": "stdout",
     "output_type": "stream",
     "text": [
      "29.3%\n"
     ]
    }
   ],
   "source": [
    "# Calculating import value differences with previous year\n",
    "prev_impv = tea_eximp['impor_nilai'].loc[curr_year_idx-1]\n",
    "curr_impv = tea_eximp['impor_nilai'].loc[curr_year_idx]\n",
    "pct_diff = (curr_impv - prev_impv)/prev_impv\n",
    "print(f\"{pct_diff:.1%}\")"
   ]
  },
  {
   "cell_type": "code",
   "execution_count": 59,
   "id": "02805adf",
   "metadata": {},
   "outputs": [
    {
     "name": "stdout",
     "output_type": "stream",
     "text": [
      "43.9%\n"
     ]
    }
   ],
   "source": [
    "pct_max = curr_exp/max_exp\n",
    "print(f\"{pct_max:.1%}\")"
   ]
  },
  {
   "cell_type": "code",
   "execution_count": 21,
   "id": "db04ea50",
   "metadata": {},
   "outputs": [
    {
     "data": {
      "image/png": "[encoded data removed]",
      "text/plain": [
       "<Figure size 900x600 with 1 Axes>"
      ]
     },
     "metadata": {},
     "output_type": "display_data"
    }
   ],
   "source": [
    "#Visualizing export and import quantity trend\n",
    "tea_eximp_m = tea_eximp.melt(id_vars=['tahun'], value_vars=['ekspor_ton', 'impor_ton'], \n",
    "                             var_name='Transaksi', value_name='jumlah')\n",
    "tea_eximp_m['Transaksi'].replace('ekspor_ton','Ekspor',inplace=True)\n",
    "tea_eximp_m['Transaksi'].replace('impor_ton','Impor',inplace=True)\n",
    "\n",
    "plt.figure(figsize=(9,6))\n",
    "sns.lineplot(data=tea_eximp_m, x='tahun', y='jumlah', hue='Transaksi', marker='o', palette='dark')\n",
    "\n",
    "plt.gca().xaxis.set_major_locator(MaxNLocator(integer=True))\n",
    "\n",
    "plt.title('Kuantitas Ekspor dan Impor Teh', fontweight='bold', fontsize=14)\n",
    "plt.xlabel('Tahun')\n",
    "plt.ylabel('Kuantitas (ton)')\n",
    "plt.grid(True)\n",
    "\n",
    "def format_thousands(x, pos):\n",
    "    return '{:,.0f}'.format(x).replace(',', '.')\n",
    "plt.gca().yaxis.set_major_formatter(FuncFormatter(format_thousands))\n",
    "\n",
    "plt.show()"
   ]
  },
  {
   "cell_type": "code",
   "execution_count": 22,
   "id": "40ffb5ab",
   "metadata": {},
   "outputs": [
    {
     "data": {
      "image/png": "[encoded data removed]",
      "text/plain": [
       "<Figure size 900x600 with 1 Axes>"
      ]
     },
     "metadata": {},
     "output_type": "display_data"
    }
   ],
   "source": [
    "#Visualizing export and import value trend\n",
    "tea_eximp_m = tea_eximp.melt(id_vars=['tahun'], value_vars=['ekspor_nilai', 'impor_nilai'], \n",
    "                             var_name='Transaksi', value_name='nilai')\n",
    "tea_eximp_m['Transaksi'].replace('ekspor_nilai','Ekspor',inplace=True)\n",
    "tea_eximp_m['Transaksi'].replace('impor_nilai','Impor',inplace=True)\n",
    "\n",
    "plt.figure(figsize=(9, 6))\n",
    "sns.lineplot(data=tea_eximp_m, x='tahun', y='nilai', hue='Transaksi', marker='o', palette='dark')\n",
    "\n",
    "plt.gca().xaxis.set_major_locator(MaxNLocator(integer=True))\n",
    "\n",
    "plt.title('Nilai Ekspor dan Impor Teh', fontweight='bold', fontsize=14)\n",
    "plt.xlabel('Tahun')\n",
    "plt.ylabel('Nilai (000 USD)')\n",
    "plt.grid(True)\n",
    "\n",
    "def format_thousands(x, pos):\n",
    "    return '{:,.0f}'.format(x).replace(',', '.')\n",
    "plt.gca().yaxis.set_major_formatter(FuncFormatter(format_thousands))\n",
    "\n",
    "plt.show()"
   ]
  },
  {
   "cell_type": "code",
   "execution_count": 23,
   "id": "6aade889",
   "metadata": {},
   "outputs": [
    {
     "data": {
      "text/html": [
       "<div>\n",
       "<style scoped>\n",
       "    .dataframe tbody tr th:only-of-type {\n",
       "        vertical-align: middle;\n",
       "    }\n",
       "\n",
       "    .dataframe tbody tr th {\n",
       "        vertical-align: top;\n",
       "    }\n",
       "\n",
       "    .dataframe thead th {\n",
       "        text-align: right;\n",
       "    }\n",
       "</style>\n",
       "<table border=\"1\" class=\"dataframe\">\n",
       "  <thead>\n",
       "    <tr style=\"text-align: right;\">\n",
       "      <th></th>\n",
       "      <th>tahun</th>\n",
       "      <th>Teh</th>\n",
       "      <th>Kopi</th>\n",
       "      <th>Kakao</th>\n",
       "      <th>sawit_ton</th>\n",
       "      <th>karet_ton</th>\n",
       "    </tr>\n",
       "  </thead>\n",
       "  <tbody>\n",
       "    <tr>\n",
       "      <th>0</th>\n",
       "      <td>2002</td>\n",
       "      <td>100184</td>\n",
       "      <td>325009</td>\n",
       "      <td>465622</td>\n",
       "      <td>2348638</td>\n",
       "      <td>1495987.0</td>\n",
       "    </tr>\n",
       "    <tr>\n",
       "      <th>1</th>\n",
       "      <td>2003</td>\n",
       "      <td>88894</td>\n",
       "      <td>323520</td>\n",
       "      <td>355726</td>\n",
       "      <td>2719304</td>\n",
       "      <td>1662210.0</td>\n",
       "    </tr>\n",
       "    <tr>\n",
       "      <th>2</th>\n",
       "      <td>2004</td>\n",
       "      <td>98572</td>\n",
       "      <td>344077</td>\n",
       "      <td>366855</td>\n",
       "      <td>3944457</td>\n",
       "      <td>1874261.0</td>\n",
       "    </tr>\n",
       "    <tr>\n",
       "      <th>3</th>\n",
       "      <td>2005</td>\n",
       "      <td>102572</td>\n",
       "      <td>445829</td>\n",
       "      <td>463632</td>\n",
       "      <td>4344303</td>\n",
       "      <td>2024593.0</td>\n",
       "    </tr>\n",
       "    <tr>\n",
       "      <th>4</th>\n",
       "      <td>2006</td>\n",
       "      <td>95339</td>\n",
       "      <td>413500</td>\n",
       "      <td>609035</td>\n",
       "      <td>4139286</td>\n",
       "      <td>2286897.0</td>\n",
       "    </tr>\n",
       "    <tr>\n",
       "      <th>5</th>\n",
       "      <td>2007</td>\n",
       "      <td>83659</td>\n",
       "      <td>321404</td>\n",
       "      <td>503522</td>\n",
       "      <td>8866445</td>\n",
       "      <td>2407972.0</td>\n",
       "    </tr>\n",
       "    <tr>\n",
       "      <th>6</th>\n",
       "      <td>2008</td>\n",
       "      <td>96210</td>\n",
       "      <td>468749</td>\n",
       "      <td>515523</td>\n",
       "      <td>14110229</td>\n",
       "      <td>2283158.0</td>\n",
       "    </tr>\n",
       "    <tr>\n",
       "      <th>7</th>\n",
       "      <td>2009</td>\n",
       "      <td>92304</td>\n",
       "      <td>433600</td>\n",
       "      <td>535236</td>\n",
       "      <td>11605431</td>\n",
       "      <td>1991533.0</td>\n",
       "    </tr>\n",
       "    <tr>\n",
       "      <th>8</th>\n",
       "      <td>2010</td>\n",
       "      <td>87101</td>\n",
       "      <td>433595</td>\n",
       "      <td>552880</td>\n",
       "      <td>15413639</td>\n",
       "      <td>2351915.0</td>\n",
       "    </tr>\n",
       "    <tr>\n",
       "      <th>9</th>\n",
       "      <td>2011</td>\n",
       "      <td>75450</td>\n",
       "      <td>346493</td>\n",
       "      <td>410257</td>\n",
       "      <td>19753190</td>\n",
       "      <td>2556233.0</td>\n",
       "    </tr>\n",
       "    <tr>\n",
       "      <th>10</th>\n",
       "      <td>2012</td>\n",
       "      <td>70071</td>\n",
       "      <td>448591</td>\n",
       "      <td>387790</td>\n",
       "      <td>19097463</td>\n",
       "      <td>2444503.0</td>\n",
       "    </tr>\n",
       "    <tr>\n",
       "      <th>11</th>\n",
       "      <td>2013</td>\n",
       "      <td>70842</td>\n",
       "      <td>534023</td>\n",
       "      <td>414092</td>\n",
       "      <td>17140435</td>\n",
       "      <td>2701995.0</td>\n",
       "    </tr>\n",
       "    <tr>\n",
       "      <th>12</th>\n",
       "      <td>2014</td>\n",
       "      <td>66399</td>\n",
       "      <td>384816</td>\n",
       "      <td>333679</td>\n",
       "      <td>19005312</td>\n",
       "      <td>2623471.0</td>\n",
       "    </tr>\n",
       "    <tr>\n",
       "      <th>13</th>\n",
       "      <td>2015</td>\n",
       "      <td>61915</td>\n",
       "      <td>502021</td>\n",
       "      <td>355321</td>\n",
       "      <td>16943095</td>\n",
       "      <td>2630313.0</td>\n",
       "    </tr>\n",
       "    <tr>\n",
       "      <th>14</th>\n",
       "      <td>2016</td>\n",
       "      <td>51319</td>\n",
       "      <td>414651</td>\n",
       "      <td>330029</td>\n",
       "      <td>24336303</td>\n",
       "      <td>2578791.0</td>\n",
       "    </tr>\n",
       "    <tr>\n",
       "      <th>15</th>\n",
       "      <td>2017</td>\n",
       "      <td>54187</td>\n",
       "      <td>467790</td>\n",
       "      <td>354752</td>\n",
       "      <td>29135179</td>\n",
       "      <td>2991909.0</td>\n",
       "    </tr>\n",
       "    <tr>\n",
       "      <th>16</th>\n",
       "      <td>2018</td>\n",
       "      <td>49038</td>\n",
       "      <td>279961</td>\n",
       "      <td>380829</td>\n",
       "      <td>29690649</td>\n",
       "      <td>2812105.0</td>\n",
       "    </tr>\n",
       "    <tr>\n",
       "      <th>17</th>\n",
       "      <td>2019</td>\n",
       "      <td>42811</td>\n",
       "      <td>359053</td>\n",
       "      <td>358482</td>\n",
       "      <td>30232555</td>\n",
       "      <td>2503671.0</td>\n",
       "    </tr>\n",
       "    <tr>\n",
       "      <th>18</th>\n",
       "      <td>2020</td>\n",
       "      <td>45265</td>\n",
       "      <td>379354</td>\n",
       "      <td>377849</td>\n",
       "      <td>27647601</td>\n",
       "      <td>2279915.0</td>\n",
       "    </tr>\n",
       "    <tr>\n",
       "      <th>19</th>\n",
       "      <td>2021</td>\n",
       "      <td>42654</td>\n",
       "      <td>387264</td>\n",
       "      <td>382712</td>\n",
       "      <td>27042669</td>\n",
       "      <td>NaN</td>\n",
       "    </tr>\n",
       "    <tr>\n",
       "      <th>20</th>\n",
       "      <td>2022</td>\n",
       "      <td>44979</td>\n",
       "      <td>437555</td>\n",
       "      <td>385421</td>\n",
       "      <td>26327393</td>\n",
       "      <td>NaN</td>\n",
       "    </tr>\n",
       "  </tbody>\n",
       "</table>\n",
       "</div>"
      ],
      "text/plain": [
       "    tahun     Teh    Kopi   Kakao  sawit_ton  karet_ton\n",
       "0    2002  100184  325009  465622    2348638  1495987.0\n",
       "1    2003   88894  323520  355726    2719304  1662210.0\n",
       "2    2004   98572  344077  366855    3944457  1874261.0\n",
       "3    2005  102572  445829  463632    4344303  2024593.0\n",
       "4    2006   95339  413500  609035    4139286  2286897.0\n",
       "5    2007   83659  321404  503522    8866445  2407972.0\n",
       "6    2008   96210  468749  515523   14110229  2283158.0\n",
       "7    2009   92304  433600  535236   11605431  1991533.0\n",
       "8    2010   87101  433595  552880   15413639  2351915.0\n",
       "9    2011   75450  346493  410257   19753190  2556233.0\n",
       "10   2012   70071  448591  387790   19097463  2444503.0\n",
       "11   2013   70842  534023  414092   17140435  2701995.0\n",
       "12   2014   66399  384816  333679   19005312  2623471.0\n",
       "13   2015   61915  502021  355321   16943095  2630313.0\n",
       "14   2016   51319  414651  330029   24336303  2578791.0\n",
       "15   2017   54187  467790  354752   29135179  2991909.0\n",
       "16   2018   49038  279961  380829   29690649  2812105.0\n",
       "17   2019   42811  359053  358482   30232555  2503671.0\n",
       "18   2020   45265  379354  377849   27647601  2279915.0\n",
       "19   2021   42654  387264  382712   27042669        NaN\n",
       "20   2022   44979  437555  385421   26327393        NaN"
      ]
     },
     "execution_count": 23,
     "metadata": {},
     "output_type": "execute_result"
    }
   ],
   "source": [
    "#Exploring data 5: Export comparison with other commodities\n",
    "export_comp = export_comp.rename(columns={'teh_ton':'Teh', 'kopi_ton':'Kopi', 'kakao_ton':'Kakao'})\n",
    "export_comp"
   ]
  },
  {
   "cell_type": "code",
   "execution_count": 24,
   "id": "49020157",
   "metadata": {},
   "outputs": [
    {
     "data": {
      "image/png": "[encoded data removed]",
      "text/plain": [
       "<Figure size 1000x600 with 1 Axes>"
      ]
     },
     "metadata": {},
     "output_type": "display_data"
    }
   ],
   "source": [
    "#Visualizing trend\n",
    "export_comp_m = export_comp.melt(id_vars=['tahun'], value_vars=['Teh', 'Kopi', 'Kakao'], \n",
    "                             var_name='Komoditas', value_name='jumlah')\n",
    "\n",
    "plt.figure(figsize=(10, 6))\n",
    "sns.lineplot(data=export_comp_m, x='tahun', y='jumlah', hue='Komoditas', marker='o', palette='dark')\n",
    "\n",
    "plt.gca().xaxis.set_major_locator(MaxNLocator(integer=True))\n",
    "\n",
    "plt.title('Perbandingan Ekspor Komoditas Perkebunan', fontweight='bold', fontsize=14)\n",
    "plt.xlabel('Tahun')\n",
    "plt.ylabel('Qty (ton)')\n",
    "plt.grid(True)\n",
    "\n",
    "def format_thousands(x, pos):\n",
    "    return '{:,.0f}'.format(x).replace(',', '.')\n",
    "plt.gca().yaxis.set_major_formatter(FuncFormatter(format_thousands))\n",
    "\n",
    "plt.show()"
   ]
  },
  {
   "cell_type": "code",
   "execution_count": 27,
   "id": "da0bb9fb",
   "metadata": {},
   "outputs": [
    {
     "data": {
      "text/html": [
       "<div>\n",
       "<style scoped>\n",
       "    .dataframe tbody tr th:only-of-type {\n",
       "        vertical-align: middle;\n",
       "    }\n",
       "\n",
       "    .dataframe tbody tr th {\n",
       "        vertical-align: top;\n",
       "    }\n",
       "\n",
       "    .dataframe thead th {\n",
       "        text-align: right;\n",
       "    }\n",
       "</style>\n",
       "<table border=\"1\" class=\"dataframe\">\n",
       "  <thead>\n",
       "    <tr style=\"text-align: right;\">\n",
       "      <th></th>\n",
       "      <th>tahun</th>\n",
       "      <th>produksi</th>\n",
       "      <th>ekspor</th>\n",
       "      <th>impor</th>\n",
       "      <th>konsumsi</th>\n",
       "    </tr>\n",
       "  </thead>\n",
       "  <tbody>\n",
       "    <tr>\n",
       "      <th>0</th>\n",
       "      <td>2002</td>\n",
       "      <td>165194</td>\n",
       "      <td>100184</td>\n",
       "      <td>3526</td>\n",
       "      <td>68536</td>\n",
       "    </tr>\n",
       "    <tr>\n",
       "      <th>1</th>\n",
       "      <td>2003</td>\n",
       "      <td>169821</td>\n",
       "      <td>88894</td>\n",
       "      <td>4000</td>\n",
       "      <td>84927</td>\n",
       "    </tr>\n",
       "    <tr>\n",
       "      <th>2</th>\n",
       "      <td>2004</td>\n",
       "      <td>165951</td>\n",
       "      <td>98572</td>\n",
       "      <td>3925</td>\n",
       "      <td>71304</td>\n",
       "    </tr>\n",
       "    <tr>\n",
       "      <th>3</th>\n",
       "      <td>2005</td>\n",
       "      <td>166091</td>\n",
       "      <td>102572</td>\n",
       "      <td>5479</td>\n",
       "      <td>68998</td>\n",
       "    </tr>\n",
       "    <tr>\n",
       "      <th>4</th>\n",
       "      <td>2006</td>\n",
       "      <td>146859</td>\n",
       "      <td>95339</td>\n",
       "      <td>5294</td>\n",
       "      <td>56814</td>\n",
       "    </tr>\n",
       "    <tr>\n",
       "      <th>5</th>\n",
       "      <td>2007</td>\n",
       "      <td>150223</td>\n",
       "      <td>83659</td>\n",
       "      <td>10366</td>\n",
       "      <td>76930</td>\n",
       "    </tr>\n",
       "    <tr>\n",
       "      <th>6</th>\n",
       "      <td>2008</td>\n",
       "      <td>153971</td>\n",
       "      <td>96210</td>\n",
       "      <td>6625</td>\n",
       "      <td>64386</td>\n",
       "    </tr>\n",
       "    <tr>\n",
       "      <th>7</th>\n",
       "      <td>2009</td>\n",
       "      <td>156901</td>\n",
       "      <td>92304</td>\n",
       "      <td>7169</td>\n",
       "      <td>71766</td>\n",
       "    </tr>\n",
       "    <tr>\n",
       "      <th>8</th>\n",
       "      <td>2010</td>\n",
       "      <td>156604</td>\n",
       "      <td>87101</td>\n",
       "      <td>10688</td>\n",
       "      <td>80191</td>\n",
       "    </tr>\n",
       "    <tr>\n",
       "      <th>9</th>\n",
       "      <td>2011</td>\n",
       "      <td>150776</td>\n",
       "      <td>75450</td>\n",
       "      <td>19812</td>\n",
       "      <td>95138</td>\n",
       "    </tr>\n",
       "    <tr>\n",
       "      <th>10</th>\n",
       "      <td>2012</td>\n",
       "      <td>145575</td>\n",
       "      <td>70071</td>\n",
       "      <td>24397</td>\n",
       "      <td>99901</td>\n",
       "    </tr>\n",
       "    <tr>\n",
       "      <th>11</th>\n",
       "      <td>2013</td>\n",
       "      <td>145460</td>\n",
       "      <td>70842</td>\n",
       "      <td>20580</td>\n",
       "      <td>95198</td>\n",
       "    </tr>\n",
       "    <tr>\n",
       "      <th>12</th>\n",
       "      <td>2014</td>\n",
       "      <td>154369</td>\n",
       "      <td>66399</td>\n",
       "      <td>14662</td>\n",
       "      <td>102632</td>\n",
       "    </tr>\n",
       "    <tr>\n",
       "      <th>13</th>\n",
       "      <td>2015</td>\n",
       "      <td>132615</td>\n",
       "      <td>61915</td>\n",
       "      <td>15164</td>\n",
       "      <td>85864</td>\n",
       "    </tr>\n",
       "    <tr>\n",
       "      <th>14</th>\n",
       "      <td>2016</td>\n",
       "      <td>138935</td>\n",
       "      <td>51319</td>\n",
       "      <td>22095</td>\n",
       "      <td>109711</td>\n",
       "    </tr>\n",
       "    <tr>\n",
       "      <th>15</th>\n",
       "      <td>2017</td>\n",
       "      <td>146251</td>\n",
       "      <td>54187</td>\n",
       "      <td>14679</td>\n",
       "      <td>106743</td>\n",
       "    </tr>\n",
       "    <tr>\n",
       "      <th>16</th>\n",
       "      <td>2018</td>\n",
       "      <td>140236</td>\n",
       "      <td>49038</td>\n",
       "      <td>14922</td>\n",
       "      <td>106120</td>\n",
       "    </tr>\n",
       "    <tr>\n",
       "      <th>17</th>\n",
       "      <td>2019</td>\n",
       "      <td>129832</td>\n",
       "      <td>42811</td>\n",
       "      <td>16326</td>\n",
       "      <td>103347</td>\n",
       "    </tr>\n",
       "    <tr>\n",
       "      <th>18</th>\n",
       "      <td>2020</td>\n",
       "      <td>144064</td>\n",
       "      <td>45265</td>\n",
       "      <td>14909</td>\n",
       "      <td>113708</td>\n",
       "    </tr>\n",
       "    <tr>\n",
       "      <th>19</th>\n",
       "      <td>2021</td>\n",
       "      <td>137837</td>\n",
       "      <td>42654</td>\n",
       "      <td>10609</td>\n",
       "      <td>105792</td>\n",
       "    </tr>\n",
       "    <tr>\n",
       "      <th>20</th>\n",
       "      <td>2022</td>\n",
       "      <td>124661</td>\n",
       "      <td>44979</td>\n",
       "      <td>10883</td>\n",
       "      <td>90565</td>\n",
       "    </tr>\n",
       "  </tbody>\n",
       "</table>\n",
       "</div>"
      ],
      "text/plain": [
       "    tahun  produksi  ekspor  impor  konsumsi\n",
       "0    2002    165194  100184   3526     68536\n",
       "1    2003    169821   88894   4000     84927\n",
       "2    2004    165951   98572   3925     71304\n",
       "3    2005    166091  102572   5479     68998\n",
       "4    2006    146859   95339   5294     56814\n",
       "5    2007    150223   83659  10366     76930\n",
       "6    2008    153971   96210   6625     64386\n",
       "7    2009    156901   92304   7169     71766\n",
       "8    2010    156604   87101  10688     80191\n",
       "9    2011    150776   75450  19812     95138\n",
       "10   2012    145575   70071  24397     99901\n",
       "11   2013    145460   70842  20580     95198\n",
       "12   2014    154369   66399  14662    102632\n",
       "13   2015    132615   61915  15164     85864\n",
       "14   2016    138935   51319  22095    109711\n",
       "15   2017    146251   54187  14679    106743\n",
       "16   2018    140236   49038  14922    106120\n",
       "17   2019    129832   42811  16326    103347\n",
       "18   2020    144064   45265  14909    113708\n",
       "19   2021    137837   42654  10609    105792\n",
       "20   2022    124661   44979  10883     90565"
      ]
     },
     "execution_count": 27,
     "metadata": {},
     "output_type": "execute_result"
    }
   ],
   "source": [
    "#Calculating domestic consumption based on the difference between production plus export and import\n",
    "tea_cons = pd.DataFrame({\n",
    "    'tahun': tea_prod['tahun'],\n",
    "    'produksi': tea_prod['Total'],\n",
    "    'ekspor': tea_eximp['ekspor_ton'],\n",
    "    'impor': tea_eximp['impor_ton']\n",
    "})\n",
    "tea_cons = tea_cons.assign(konsumsi = tea_cons['produksi'] + tea_cons['impor'] - tea_cons['ekspor'])\n",
    "tea_cons"
   ]
  },
  {
   "cell_type": "code",
   "execution_count": 29,
   "id": "893f5207",
   "metadata": {},
   "outputs": [
    {
     "data": {
      "image/png": "[encoded data removed]",
      "text/plain": [
       "<Figure size 700x400 with 1 Axes>"
      ]
     },
     "metadata": {},
     "output_type": "display_data"
    }
   ],
   "source": [
    "# Visualizing domestic tea consumption trend over time\n",
    "plt.figure(figsize=(7, 4))\n",
    "sns.lineplot(data=tea_cons, x='tahun', y='konsumsi', marker='o', color='green')\n",
    "\n",
    "plt.gca().xaxis.set_major_locator(MaxNLocator(integer=True))\n",
    "plt.ylim(0,120000)\n",
    "\n",
    "plt.xlabel('Tahun')\n",
    "plt.ylabel('Jumlah (ton)')\n",
    "plt.title('Konsumsi Teh Dalam Negeri', fontweight='bold', fontsize=14)\n",
    "\n",
    "def format_thousands(x, pos):\n",
    "    return '{:,.0f}'.format(x).replace(',', '.')\n",
    "plt.gca().yaxis.set_major_formatter(FuncFormatter(format_thousands))\n",
    "\n",
    "plt.show()"
   ]
  },
  {
   "cell_type": "code",
   "execution_count": null,
   "id": "2012395b",
   "metadata": {},
   "outputs": [],
   "source": []
  }
 ],
 "metadata": {
  "kernelspec": {
   "display_name": "Python 3 (ipykernel)",
   "language": "python",
   "name": "python3"
  },
  "language_info": {
   "codemirror_mode": {
    "name": "ipython",
    "version": 3
   },
   "file_extension": ".py",
   "mimetype": "text/x-python",
   "name": "python",
   "nbconvert_exporter": "python",
   "pygments_lexer": "ipython3",
   "version": "3.11.5"
  }
 },
 "nbformat": 4,
 "nbformat_minor": 5
}
